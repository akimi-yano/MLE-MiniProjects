{
  "cells": [
    {
      "cell_type": "markdown",
      "metadata": {
        "id": "view-in-github",
        "colab_type": "text"
      },
      "source": [
        "<a href=\"https://colab.research.google.com/github/akimi-yano/MLE-MiniProjects/blob/main/MLE_MiniProject_ML.ipynb\" target=\"_parent\"><img src=\"https://colab.research.google.com/assets/colab-badge.svg\" alt=\"Open In Colab\"/></a>"
      ]
    },
    {
      "cell_type": "markdown",
      "metadata": {
        "id": "Yzr5Eo_qxHQi"
      },
      "source": [
        "# Mini Project: Build a Machine Learning Model"
      ]
    },
    {
      "cell_type": "markdown",
      "metadata": {
        "id": "_NvUsqw8xg26"
      },
      "source": [
        "## Predict Total Fare on the NYC Taxi Dataset\n",
        "\n",
        "Welcome to the NYC Taxi Fare Prediction project! In this Colab, we will continue using the NYC Taxi Dataset to predict the fare amount for taxi rides using a subset of available features. We will go through three main stages: building a baseline model, creating a full model, and performing hyperparameter tuning to enhance our predictions.\n",
        "\n",
        "Now that you've completed exploratory data analysis on this dataset you should have a good understanding of the feature space.\n",
        "\n",
        "## Project Objectives\n",
        "\n",
        "The primary objectives of this project are as follows:\n",
        "\n",
        "Baseline Model: We will start by building a simple baseline model to establish a benchmark for our predictions. This model will serve as a starting point to compare the performance of our subsequent models.\n",
        "\n",
        "Full Model: Next, we will develop a more comprehensive model that leverages machine learning techniques to improve prediction accuracy. We will use Scikit-Learn's model pipeline to build a framework that enables rapid experimentation.\n",
        "\n",
        "Hyperparameter Tuning: Lastly, we will optimize our full model by fine-tuning its hyperparameters. By systematically adjusting the parameters that control model behavior, we aim to achieve the best possible performance for our prediction task."
      ]
    },
    {
      "cell_type": "code",
      "execution_count": 1,
      "metadata": {
        "id": "lbJFWLELlI6N"
      },
      "outputs": [],
      "source": [
        "import pandas as pd\n",
        "import numpy as np\n",
        "import matplotlib.pyplot as plt\n",
        "from sklearn.model_selection import train_test_split, GridSearchCV\n",
        "from sklearn.metrics import mean_absolute_error\n",
        "\n",
        "from sklearn.pipeline import Pipeline\n",
        "from sklearn.preprocessing import StandardScaler, OneHotEncoder, FunctionTransformer\n",
        "from sklearn.compose import ColumnTransformer\n",
        "from sklearn.linear_model import LinearRegression\n",
        "from sklearn.ensemble import RandomForestRegressor"
      ]
    },
    {
      "cell_type": "markdown",
      "metadata": {
        "id": "gJtGZwwG2WTW"
      },
      "source": [
        "Load the NYC taxi dataset into a Pandas DataFrame and do a few basic checks to ensure the data is loaded properly. Note, there are several months of data that can be used. For simplicity, use the Yellow Taxi 2022-01 parquet file [here](https://d37ci6vzurychx.cloudfront.net/trip-data/yellow_tripdata_2022-01.parquet). Here are your tasks:\n",
        "\n",
        "  1. Load the `yellow_tripdata_2022-01.parquet` file into Pandas.\n",
        "  2. Print the first 5 rows of data.\n",
        "  3. Drop any rows of data that contain NULL values.\n",
        "  4. Create a new feature, 'trip_duration' that captures the duration of the trip in minutes.\n",
        "  5. Create a varible named 'target_variable' to store the name of the thing we're trying to predict, 'total_amount'.\n",
        "  6. Create a list called 'feature_cols' containing the feature names that we'll be using to predict our target variable. The list should contain 'VendorID', 'trip_distance', 'payment_type', 'PULocationID', 'DOLocationID', and 'trip_duration'."
      ]
    },
    {
      "cell_type": "code",
      "execution_count": 2,
      "metadata": {
        "id": "db--eb8zlNNg"
      },
      "outputs": [],
      "source": [
        "# Load the dataset into a pandas DataFrame (from https://www.nyc.gov/site/tlc/about/tlc-trip-record-data.page)\n",
        "df = pd.read_parquet('yellow_tripdata_2022-01.parquet')"
      ]
    },
    {
      "cell_type": "code",
      "execution_count": 3,
      "metadata": {
        "id": "TslBuHoXl_o1",
        "colab": {
          "base_uri": "https://localhost:8080/"
        },
        "outputId": "7ed6e636-3c7b-4c1c-9286-03ef249aab30"
      },
      "outputs": [
        {
          "output_type": "stream",
          "name": "stdout",
          "text": [
            "   VendorID tpep_pickup_datetime tpep_dropoff_datetime  passenger_count  \\\n",
            "0         1  2022-01-01 00:35:40   2022-01-01 00:53:29              2.0   \n",
            "1         1  2022-01-01 00:33:43   2022-01-01 00:42:07              1.0   \n",
            "2         2  2022-01-01 00:53:21   2022-01-01 01:02:19              1.0   \n",
            "3         2  2022-01-01 00:25:21   2022-01-01 00:35:23              1.0   \n",
            "4         2  2022-01-01 00:36:48   2022-01-01 01:14:20              1.0   \n",
            "\n",
            "   trip_distance  RatecodeID store_and_fwd_flag  PULocationID  DOLocationID  \\\n",
            "0           3.80         1.0                  N           142           236   \n",
            "1           2.10         1.0                  N           236            42   \n",
            "2           0.97         1.0                  N           166           166   \n",
            "3           1.09         1.0                  N           114            68   \n",
            "4           4.30         1.0                  N            68           163   \n",
            "\n",
            "   payment_type  fare_amount  extra  mta_tax  tip_amount  tolls_amount  \\\n",
            "0             1         14.5    3.0      0.5        3.65           0.0   \n",
            "1             1          8.0    0.5      0.5        4.00           0.0   \n",
            "2             1          7.5    0.5      0.5        1.76           0.0   \n",
            "3             2          8.0    0.5      0.5        0.00           0.0   \n",
            "4             1         23.5    0.5      0.5        3.00           0.0   \n",
            "\n",
            "   improvement_surcharge  total_amount  congestion_surcharge  airport_fee  \n",
            "0                    0.3         21.95                   2.5          0.0  \n",
            "1                    0.3         13.30                   0.0          0.0  \n",
            "2                    0.3         10.56                   0.0          0.0  \n",
            "3                    0.3         11.80                   2.5          0.0  \n",
            "4                    0.3         30.30                   2.5          0.0  \n"
          ]
        }
      ],
      "source": [
        "# Display the first few rows of the dataset\n",
        "print(df.head())"
      ]
    },
    {
      "cell_type": "code",
      "execution_count": 4,
      "metadata": {
        "id": "4ybS7HV6HHQL",
        "colab": {
          "base_uri": "https://localhost:8080/"
        },
        "outputId": "815800e3-9693-440a-b8be-7703b50b52fa"
      },
      "outputs": [
        {
          "output_type": "stream",
          "name": "stdout",
          "text": [
            "VendorID                     0\n",
            "tpep_pickup_datetime         0\n",
            "tpep_dropoff_datetime        0\n",
            "passenger_count          71503\n",
            "trip_distance                0\n",
            "RatecodeID               71503\n",
            "store_and_fwd_flag       71503\n",
            "PULocationID                 0\n",
            "DOLocationID                 0\n",
            "payment_type                 0\n",
            "fare_amount                  0\n",
            "extra                        0\n",
            "mta_tax                      0\n",
            "tip_amount                   0\n",
            "tolls_amount                 0\n",
            "improvement_surcharge        0\n",
            "total_amount                 0\n",
            "congestion_surcharge     71503\n",
            "airport_fee              71503\n",
            "dtype: int64\n",
            "VendorID                 0\n",
            "tpep_pickup_datetime     0\n",
            "tpep_dropoff_datetime    0\n",
            "passenger_count          0\n",
            "trip_distance            0\n",
            "RatecodeID               0\n",
            "store_and_fwd_flag       0\n",
            "PULocationID             0\n",
            "DOLocationID             0\n",
            "payment_type             0\n",
            "fare_amount              0\n",
            "extra                    0\n",
            "mta_tax                  0\n",
            "tip_amount               0\n",
            "tolls_amount             0\n",
            "improvement_surcharge    0\n",
            "total_amount             0\n",
            "congestion_surcharge     0\n",
            "airport_fee              0\n",
            "dtype: int64\n"
          ]
        }
      ],
      "source": [
        "# Drop rows with missing values.\n",
        "print(df.isna().sum())\n",
        "df = df.dropna()\n",
        "print(df.isna().sum())"
      ]
    },
    {
      "cell_type": "code",
      "execution_count": 5,
      "metadata": {
        "id": "ZC4p9PEjnSm8",
        "colab": {
          "base_uri": "https://localhost:8080/"
        },
        "outputId": "c2baf437-1ccf-4f93-b8b3-567626dc3dfb"
      },
      "outputs": [
        {
          "output_type": "stream",
          "name": "stdout",
          "text": [
            "0          17.816667\n",
            "1           8.400000\n",
            "2           8.966667\n",
            "3          10.033333\n",
            "4          37.533333\n",
            "             ...    \n",
            "2392423     8.316667\n",
            "2392424     4.350000\n",
            "2392425     8.216667\n",
            "2392426     7.750000\n",
            "2392427    12.233333\n",
            "Name: trip_duration, Length: 2392428, dtype: float64\n"
          ]
        }
      ],
      "source": [
        "# Create new feature, 'trip_duration' that captures the duration of the trip in minutes.\n",
        "trip_duration = df['tpep_dropoff_datetime'] - df['tpep_pickup_datetime']\n",
        "df['trip_duration'] = trip_duration.dt.total_seconds() / 60\n",
        "print(df['trip_duration'])"
      ]
    },
    {
      "cell_type": "code",
      "source": [
        "# Looking at the data frame to see how the target and features are stored.\n",
        "print(df.columns)"
      ],
      "metadata": {
        "colab": {
          "base_uri": "https://localhost:8080/"
        },
        "id": "VP40aTEQ5zy-",
        "outputId": "5b6a960e-7f44-4d81-bf45-b5694b0e388d"
      },
      "execution_count": 6,
      "outputs": [
        {
          "output_type": "stream",
          "name": "stdout",
          "text": [
            "Index(['VendorID', 'tpep_pickup_datetime', 'tpep_dropoff_datetime',\n",
            "       'passenger_count', 'trip_distance', 'RatecodeID', 'store_and_fwd_flag',\n",
            "       'PULocationID', 'DOLocationID', 'payment_type', 'fare_amount', 'extra',\n",
            "       'mta_tax', 'tip_amount', 'tolls_amount', 'improvement_surcharge',\n",
            "       'total_amount', 'congestion_surcharge', 'airport_fee', 'trip_duration'],\n",
            "      dtype='object')\n"
          ]
        }
      ]
    },
    {
      "cell_type": "code",
      "source": [
        "# Create a varible named 'target_variable' to store the name of the thing we're trying to predict, 'total_amount'.\n",
        "target_variable = 'total_amount'\n",
        "target = df[target_variable]\n",
        "print(target)"
      ],
      "metadata": {
        "colab": {
          "base_uri": "https://localhost:8080/"
        },
        "id": "MBmXBkdA5gUp",
        "outputId": "fb157f03-1a94-4c07-e515-1690e0a7fd5a"
      },
      "execution_count": 7,
      "outputs": [
        {
          "output_type": "stream",
          "name": "stdout",
          "text": [
            "0          21.95\n",
            "1          13.30\n",
            "2          10.56\n",
            "3          11.80\n",
            "4          30.30\n",
            "           ...  \n",
            "2392423    11.30\n",
            "2392424    11.16\n",
            "2392425    14.75\n",
            "2392426    13.56\n",
            "2392427    20.76\n",
            "Name: total_amount, Length: 2392428, dtype: float64\n"
          ]
        }
      ]
    },
    {
      "cell_type": "code",
      "execution_count": 8,
      "metadata": {
        "id": "R5d84tINrG9d",
        "colab": {
          "base_uri": "https://localhost:8080/"
        },
        "outputId": "d82b2418-3b00-4799-dc0a-48934d261f1d"
      },
      "outputs": [
        {
          "output_type": "stream",
          "name": "stdout",
          "text": [
            "         VendorID  trip_distance  payment_type  PULocationID  DOLocationID  \\\n",
            "0               1           3.80             1           142           236   \n",
            "1               1           2.10             1           236            42   \n",
            "2               2           0.97             1           166           166   \n",
            "3               2           1.09             2           114            68   \n",
            "4               2           4.30             1            68           163   \n",
            "...           ...            ...           ...           ...           ...   \n",
            "2392423         1           1.50             2           163           143   \n",
            "2392424         2           1.02             1           249            68   \n",
            "2392425         2           1.53             1            68            90   \n",
            "2392426         2           1.59             1            90            79   \n",
            "2392427         2           4.04             1           140            24   \n",
            "\n",
            "         trip_duration  \n",
            "0            17.816667  \n",
            "1             8.400000  \n",
            "2             8.966667  \n",
            "3            10.033333  \n",
            "4            37.533333  \n",
            "...                ...  \n",
            "2392423       8.316667  \n",
            "2392424       4.350000  \n",
            "2392425       8.216667  \n",
            "2392426       7.750000  \n",
            "2392427      12.233333  \n",
            "\n",
            "[2392428 rows x 6 columns]\n"
          ]
        }
      ],
      "source": [
        "# Create a list called 'feature_cols' containing the feature names that we'll be using to predict our target variable.\n",
        "# The list should contain 'VendorID', 'trip_distance', 'payment_type', 'PULocationID', 'DOLocationID', and 'trip_duration'.\n",
        "feature_cols = ['VendorID', 'trip_distance', 'payment_type', 'PULocationID', 'DOLocationID', 'trip_duration']\n",
        "features = df[feature_cols]\n",
        "print(features)"
      ]
    },
    {
      "cell_type": "markdown",
      "metadata": {
        "id": "eq2kgevn51LY"
      },
      "source": [
        "Splitting a dataset into training and test sets is a crucial step in machine learning model development. It allows us to evaluate the performance and generalization ability of our models accurately. The training set is used to train the model, while the test set serves as an independent sample for evaluating its performance.\n",
        "\n",
        "1. **Model Training**: The training set is used to fit the model, allowing it to learn the underlying patterns and relationships between the features and the target variable. By exposing the model to a diverse range of examples in the training set, it can capture the underlying structure of the data.\n",
        "\n",
        "2. **Model Evaluation**: The test set, which is independent of the training set, is crucial for evaluating how well the trained model generalizes to unseen data. It provides an unbiased assessment of the model's performance on new instances. By measuring the model's accuracy, precision, recall, or other evaluation metrics on the test set, we can estimate how well the model will perform on unseen data.\n",
        "\n",
        "3. **Preventing Overfitting**: Overfitting occurs when a model learns the training data's noise and idiosyncrasies instead of the underlying patterns. By evaluating the model on the test set, we can identify if the model is overfitting. If the model performs significantly worse on the test set compared to the training set, it indicates overfitting. In such cases, we might need to adjust the model, feature selection, or regularization techniques to improve generalization.\n",
        "\n",
        "4. **Hyperparameter Tuning**: Splitting the dataset allows us to perform hyperparameter tuning on the model. Hyperparameters are configuration settings that control the learning process, such as learning rate, regularization strength, or the number of hidden layers in a neural network. By using a validation set (often created from a portion of the training set), we can iteratively adjust the hyperparameters and select the best combination that maximizes the model's performance on the validation set. The final evaluation on the test set provides an unbiased estimate of the model's performance.\n",
        "\n",
        "By splitting the dataset into training and test sets, we can ensure that our models are both well-trained and accurately evaluated. This separation helps us understand how the model will perform on new, unseen data, which is critical for assessing its effectiveness and making informed decisions about its deployment.\n",
        "\n",
        "Here is your task:\n",
        "\n",
        "  1. Use Scikit-Learn's [train_test_split](https://scikit-learn.org/stable/modules/generated/sklearn.model_selection.train_test_split.html) to split the data into training and test sets. Don't forget to set the random state."
      ]
    },
    {
      "cell_type": "code",
      "execution_count": 9,
      "metadata": {
        "id": "grdbA-I6rMGC"
      },
      "outputs": [],
      "source": [
        "# Split dataset into training and test sets\n",
        "X_train, X_test, y_train, y_test = train_test_split(features, target, test_size=0.2, random_state=42)"
      ]
    },
    {
      "cell_type": "markdown",
      "metadata": {
        "id": "VIAhf_oA7PGx"
      },
      "source": [
        "The importance of a baseline model, even if it uses a simple strategy like always predicting the mean, cannot be understated. Here's why a baseline model is valuable:\n",
        "\n",
        "1. **Performance Comparison**: A baseline model serves as a reference point for evaluating the performance of more sophisticated models. By establishing a simple yet reasonable baseline, we can determine whether our advanced models offer any significant improvement over this basic approach. It helps us set realistic expectations and gauge the effectiveness of our efforts.\n",
        "\n",
        "2. **Model Complexity**: A baseline model provides insight into the complexity required to solve the prediction task. If a simple strategy like predicting the median performs reasonably well, it suggests that the problem might not necessitate complex modeling techniques. Conversely, if the baseline model performs poorly, it indicates the presence of more intricate patterns that need to be captured by more sophisticated models.\n",
        "\n",
        "3. **Minimum Performance Requirement**: A baseline model can establish a minimum performance requirement for a predictive task. If we cannot outperform the baseline, it suggests that our models have failed to capture even the most fundamental relationships within the data. In such cases, we may need to revisit our data preprocessing steps, feature engineering techniques, or consider other external factors affecting the task.\n",
        "\n",
        "4. **Identifying Data Issues**: A baseline model can help identify potential issues within the dataset. If the baseline model performs poorly, it may indicate problems like missing values, outliers, or data inconsistencies. These issues can be further investigated and resolved to improve the overall model performance.\n",
        "\n",
        "While a baseline model like always predicting the median may not offer the highest prediction accuracy, its importance lies in its role as a starting point for model development and evaluation. It provides a solid foundation for comparing and assessing the performance of more complex models, ensuring that any improvements made are meaningful and significant.\n",
        "\n",
        "Here is your task:\n",
        "\n",
        "  1. Create a model that always predicts the mean total fare of the training dataset. Use Scikit-Learn's [mean_absolute_error](https://scikit-learn.org/stable/modules/generated/sklearn.metrics.mean_absolute_error.html) to evaluate this model. Is it any good?"
      ]
    },
    {
      "cell_type": "code",
      "execution_count": 10,
      "metadata": {
        "id": "6vV1UsNTFX22",
        "colab": {
          "base_uri": "https://localhost:8080/"
        },
        "outputId": "c47a0931-d80f-4cde-dc09-056d3be3c65b"
      },
      "outputs": [
        {
          "output_type": "stream",
          "name": "stdout",
          "text": [
            "[19.06196355 19.06196355 19.06196355 ... 19.06196355 19.06196355\n",
            " 19.06196355]\n",
            "9.198227928516678\n"
          ]
        }
      ],
      "source": [
        "# Create a baseline model for mean absolute error of total amount\n",
        "y_pred = np.full(len(y_test), y_train.mean())\n",
        "print(y_pred)\n",
        "mae = mean_absolute_error(y_test, y_pred)\n",
        "print(mae)"
      ]
    },
    {
      "cell_type": "markdown",
      "metadata": {
        "id": "sCKDGKpg8MVb"
      },
      "source": [
        "With a baseline metric in place, we can try to build a machine learning model. Obviously, if the model can't beat the baseline then there are some major issues to be resolved.\n",
        "\n",
        "It's always a good idea to start with a simple machine learning model, like linear regression, and build upon it if necessary.\n",
        "\n",
        "Here are your tasks:\n",
        "\n",
        "  1. Use Scikit-Learn's [ColumnTransformer](https://scikit-learn.org/stable/modules/generated/sklearn.compose.ColumnTransformer.html) to preprocess the categorical and continuous features independently. Apply the [StandardScaler](https://scikit-learn.org/stable/modules/generated/sklearn.preprocessing.StandardScaler.html) to the continuous columns and [OneHotEncoder](https://scikit-learn.org/stable/modules/generated/sklearn.preprocessing.OneHotEncoder.html) to the categorical columns.\n",
        "\n",
        "  One-hot encoding is a popular technique used to represent categorical variables numerically in machine learning models. It transforms categorical features into a binary vector representation, where each category is represented by a binary column. Here's an explanation of one-hot encoding:\n",
        "\n",
        "  When working with categorical variables, such as colors (e.g., red, blue, green) or vehicle types (e.g., car, truck, motorcycle), machine learning algorithms often require numerical inputs. However, directly assigning numerical values to categories can introduce unintended relationships or orderings between them. For example, assigning the values 0, 1, and 2 to the categories red, blue, and green may imply a sequential relationship, which is not desired.\n",
        "\n",
        "  One-hot encoding solves this problem by creating new binary columns, equal to the number of unique categories in the original feature. Each binary column represents a specific category and takes a value of 1 if the data point belongs to that category, and 0 otherwise. This encoding ensures that no implicit ordering or relationship exists between the categories.\n",
        "\n",
        "  2. Integrate the preprocessor in the previous step with Scikit-Learn's [LinearRegression](https://scikit-learn.org/stable/modules/generated/sklearn.linear_model.LinearRegression.html) model using a [Pipeline](https://scikit-learn.org/stable/modules/generated/sklearn.pipeline.Pipeline.html).\n",
        "\n",
        "  3. Train the pipeline on the training data.\n",
        "\n",
        "  4. Evaluate the model using mean absolute error as a metric on the test data. Does the model beat the baseline?\n"
      ]
    },
    {
      "cell_type": "code",
      "source": [
        "# Use Scikit-Learn's ColumnTransformer to preprocess the categorical and continuous features independently.\n",
        "column_trans = ColumnTransformer(transformers=[('categorical', OneHotEncoder(), ['VendorID', 'payment_type', 'PULocationID', 'DOLocationID']), ('continuous', StandardScaler(), ['trip_distance', 'trip_duration'])])"
      ],
      "metadata": {
        "id": "KckTWwsiah5p"
      },
      "execution_count": 11,
      "outputs": []
    },
    {
      "cell_type": "code",
      "execution_count": 12,
      "metadata": {
        "id": "yVzxrDu6w506"
      },
      "outputs": [],
      "source": [
        "# Create a pipeline object containing the column transformations and regression\n",
        "# model.\n",
        "pipeline = Pipeline([('column_transformer', column_trans), ('linear_regression', LinearRegression())])"
      ]
    },
    {
      "cell_type": "code",
      "source": [
        "# Fit the pipeline on the training data.\n",
        "pipeline.fit(X_train, y_train)"
      ],
      "metadata": {
        "id": "7Dhli3fkalIS",
        "colab": {
          "base_uri": "https://localhost:8080/",
          "height": 192
        },
        "outputId": "c259f2e2-2020-4fb5-f3bd-902707544262"
      },
      "execution_count": 13,
      "outputs": [
        {
          "output_type": "execute_result",
          "data": {
            "text/plain": [
              "Pipeline(steps=[('column_transformer',\n",
              "                 ColumnTransformer(transformers=[('categorical',\n",
              "                                                  OneHotEncoder(),\n",
              "                                                  ['VendorID', 'payment_type',\n",
              "                                                   'PULocationID',\n",
              "                                                   'DOLocationID']),\n",
              "                                                 ('continuous',\n",
              "                                                  StandardScaler(),\n",
              "                                                  ['trip_distance',\n",
              "                                                   'trip_duration'])])),\n",
              "                ('linear_regression', LinearRegression())])"
            ],
            "text/html": [
              "<style>#sk-container-id-1 {color: black;background-color: white;}#sk-container-id-1 pre{padding: 0;}#sk-container-id-1 div.sk-toggleable {background-color: white;}#sk-container-id-1 label.sk-toggleable__label {cursor: pointer;display: block;width: 100%;margin-bottom: 0;padding: 0.3em;box-sizing: border-box;text-align: center;}#sk-container-id-1 label.sk-toggleable__label-arrow:before {content: \"▸\";float: left;margin-right: 0.25em;color: #696969;}#sk-container-id-1 label.sk-toggleable__label-arrow:hover:before {color: black;}#sk-container-id-1 div.sk-estimator:hover label.sk-toggleable__label-arrow:before {color: black;}#sk-container-id-1 div.sk-toggleable__content {max-height: 0;max-width: 0;overflow: hidden;text-align: left;background-color: #f0f8ff;}#sk-container-id-1 div.sk-toggleable__content pre {margin: 0.2em;color: black;border-radius: 0.25em;background-color: #f0f8ff;}#sk-container-id-1 input.sk-toggleable__control:checked~div.sk-toggleable__content {max-height: 200px;max-width: 100%;overflow: auto;}#sk-container-id-1 input.sk-toggleable__control:checked~label.sk-toggleable__label-arrow:before {content: \"▾\";}#sk-container-id-1 div.sk-estimator input.sk-toggleable__control:checked~label.sk-toggleable__label {background-color: #d4ebff;}#sk-container-id-1 div.sk-label input.sk-toggleable__control:checked~label.sk-toggleable__label {background-color: #d4ebff;}#sk-container-id-1 input.sk-hidden--visually {border: 0;clip: rect(1px 1px 1px 1px);clip: rect(1px, 1px, 1px, 1px);height: 1px;margin: -1px;overflow: hidden;padding: 0;position: absolute;width: 1px;}#sk-container-id-1 div.sk-estimator {font-family: monospace;background-color: #f0f8ff;border: 1px dotted black;border-radius: 0.25em;box-sizing: border-box;margin-bottom: 0.5em;}#sk-container-id-1 div.sk-estimator:hover {background-color: #d4ebff;}#sk-container-id-1 div.sk-parallel-item::after {content: \"\";width: 100%;border-bottom: 1px solid gray;flex-grow: 1;}#sk-container-id-1 div.sk-label:hover label.sk-toggleable__label {background-color: #d4ebff;}#sk-container-id-1 div.sk-serial::before {content: \"\";position: absolute;border-left: 1px solid gray;box-sizing: border-box;top: 0;bottom: 0;left: 50%;z-index: 0;}#sk-container-id-1 div.sk-serial {display: flex;flex-direction: column;align-items: center;background-color: white;padding-right: 0.2em;padding-left: 0.2em;position: relative;}#sk-container-id-1 div.sk-item {position: relative;z-index: 1;}#sk-container-id-1 div.sk-parallel {display: flex;align-items: stretch;justify-content: center;background-color: white;position: relative;}#sk-container-id-1 div.sk-item::before, #sk-container-id-1 div.sk-parallel-item::before {content: \"\";position: absolute;border-left: 1px solid gray;box-sizing: border-box;top: 0;bottom: 0;left: 50%;z-index: -1;}#sk-container-id-1 div.sk-parallel-item {display: flex;flex-direction: column;z-index: 1;position: relative;background-color: white;}#sk-container-id-1 div.sk-parallel-item:first-child::after {align-self: flex-end;width: 50%;}#sk-container-id-1 div.sk-parallel-item:last-child::after {align-self: flex-start;width: 50%;}#sk-container-id-1 div.sk-parallel-item:only-child::after {width: 0;}#sk-container-id-1 div.sk-dashed-wrapped {border: 1px dashed gray;margin: 0 0.4em 0.5em 0.4em;box-sizing: border-box;padding-bottom: 0.4em;background-color: white;}#sk-container-id-1 div.sk-label label {font-family: monospace;font-weight: bold;display: inline-block;line-height: 1.2em;}#sk-container-id-1 div.sk-label-container {text-align: center;}#sk-container-id-1 div.sk-container {/* jupyter's `normalize.less` sets `[hidden] { display: none; }` but bootstrap.min.css set `[hidden] { display: none !important; }` so we also need the `!important` here to be able to override the default hidden behavior on the sphinx rendered scikit-learn.org. See: https://github.com/scikit-learn/scikit-learn/issues/21755 */display: inline-block !important;position: relative;}#sk-container-id-1 div.sk-text-repr-fallback {display: none;}</style><div id=\"sk-container-id-1\" class=\"sk-top-container\"><div class=\"sk-text-repr-fallback\"><pre>Pipeline(steps=[(&#x27;column_transformer&#x27;,\n",
              "                 ColumnTransformer(transformers=[(&#x27;categorical&#x27;,\n",
              "                                                  OneHotEncoder(),\n",
              "                                                  [&#x27;VendorID&#x27;, &#x27;payment_type&#x27;,\n",
              "                                                   &#x27;PULocationID&#x27;,\n",
              "                                                   &#x27;DOLocationID&#x27;]),\n",
              "                                                 (&#x27;continuous&#x27;,\n",
              "                                                  StandardScaler(),\n",
              "                                                  [&#x27;trip_distance&#x27;,\n",
              "                                                   &#x27;trip_duration&#x27;])])),\n",
              "                (&#x27;linear_regression&#x27;, LinearRegression())])</pre><b>In a Jupyter environment, please rerun this cell to show the HTML representation or trust the notebook. <br />On GitHub, the HTML representation is unable to render, please try loading this page with nbviewer.org.</b></div><div class=\"sk-container\" hidden><div class=\"sk-item sk-dashed-wrapped\"><div class=\"sk-label-container\"><div class=\"sk-label sk-toggleable\"><input class=\"sk-toggleable__control sk-hidden--visually\" id=\"sk-estimator-id-1\" type=\"checkbox\" ><label for=\"sk-estimator-id-1\" class=\"sk-toggleable__label sk-toggleable__label-arrow\">Pipeline</label><div class=\"sk-toggleable__content\"><pre>Pipeline(steps=[(&#x27;column_transformer&#x27;,\n",
              "                 ColumnTransformer(transformers=[(&#x27;categorical&#x27;,\n",
              "                                                  OneHotEncoder(),\n",
              "                                                  [&#x27;VendorID&#x27;, &#x27;payment_type&#x27;,\n",
              "                                                   &#x27;PULocationID&#x27;,\n",
              "                                                   &#x27;DOLocationID&#x27;]),\n",
              "                                                 (&#x27;continuous&#x27;,\n",
              "                                                  StandardScaler(),\n",
              "                                                  [&#x27;trip_distance&#x27;,\n",
              "                                                   &#x27;trip_duration&#x27;])])),\n",
              "                (&#x27;linear_regression&#x27;, LinearRegression())])</pre></div></div></div><div class=\"sk-serial\"><div class=\"sk-item sk-dashed-wrapped\"><div class=\"sk-label-container\"><div class=\"sk-label sk-toggleable\"><input class=\"sk-toggleable__control sk-hidden--visually\" id=\"sk-estimator-id-2\" type=\"checkbox\" ><label for=\"sk-estimator-id-2\" class=\"sk-toggleable__label sk-toggleable__label-arrow\">column_transformer: ColumnTransformer</label><div class=\"sk-toggleable__content\"><pre>ColumnTransformer(transformers=[(&#x27;categorical&#x27;, OneHotEncoder(),\n",
              "                                 [&#x27;VendorID&#x27;, &#x27;payment_type&#x27;, &#x27;PULocationID&#x27;,\n",
              "                                  &#x27;DOLocationID&#x27;]),\n",
              "                                (&#x27;continuous&#x27;, StandardScaler(),\n",
              "                                 [&#x27;trip_distance&#x27;, &#x27;trip_duration&#x27;])])</pre></div></div></div><div class=\"sk-parallel\"><div class=\"sk-parallel-item\"><div class=\"sk-item\"><div class=\"sk-label-container\"><div class=\"sk-label sk-toggleable\"><input class=\"sk-toggleable__control sk-hidden--visually\" id=\"sk-estimator-id-3\" type=\"checkbox\" ><label for=\"sk-estimator-id-3\" class=\"sk-toggleable__label sk-toggleable__label-arrow\">categorical</label><div class=\"sk-toggleable__content\"><pre>[&#x27;VendorID&#x27;, &#x27;payment_type&#x27;, &#x27;PULocationID&#x27;, &#x27;DOLocationID&#x27;]</pre></div></div></div><div class=\"sk-serial\"><div class=\"sk-item\"><div class=\"sk-estimator sk-toggleable\"><input class=\"sk-toggleable__control sk-hidden--visually\" id=\"sk-estimator-id-4\" type=\"checkbox\" ><label for=\"sk-estimator-id-4\" class=\"sk-toggleable__label sk-toggleable__label-arrow\">OneHotEncoder</label><div class=\"sk-toggleable__content\"><pre>OneHotEncoder()</pre></div></div></div></div></div></div><div class=\"sk-parallel-item\"><div class=\"sk-item\"><div class=\"sk-label-container\"><div class=\"sk-label sk-toggleable\"><input class=\"sk-toggleable__control sk-hidden--visually\" id=\"sk-estimator-id-5\" type=\"checkbox\" ><label for=\"sk-estimator-id-5\" class=\"sk-toggleable__label sk-toggleable__label-arrow\">continuous</label><div class=\"sk-toggleable__content\"><pre>[&#x27;trip_distance&#x27;, &#x27;trip_duration&#x27;]</pre></div></div></div><div class=\"sk-serial\"><div class=\"sk-item\"><div class=\"sk-estimator sk-toggleable\"><input class=\"sk-toggleable__control sk-hidden--visually\" id=\"sk-estimator-id-6\" type=\"checkbox\" ><label for=\"sk-estimator-id-6\" class=\"sk-toggleable__label sk-toggleable__label-arrow\">StandardScaler</label><div class=\"sk-toggleable__content\"><pre>StandardScaler()</pre></div></div></div></div></div></div></div></div><div class=\"sk-item\"><div class=\"sk-estimator sk-toggleable\"><input class=\"sk-toggleable__control sk-hidden--visually\" id=\"sk-estimator-id-7\" type=\"checkbox\" ><label for=\"sk-estimator-id-7\" class=\"sk-toggleable__label sk-toggleable__label-arrow\">LinearRegression</label><div class=\"sk-toggleable__content\"><pre>LinearRegression()</pre></div></div></div></div></div></div></div>"
            ]
          },
          "metadata": {},
          "execution_count": 13
        }
      ]
    },
    {
      "cell_type": "code",
      "source": [
        "# Make predictions on the test data.\n",
        "y_pred = pipeline.predict(X_test)"
      ],
      "metadata": {
        "id": "mUkcHyJpamxC"
      },
      "execution_count": 14,
      "outputs": []
    },
    {
      "cell_type": "code",
      "source": [
        "# Evaluate the model using mean absolute error as a metric on the test data. Does the model beat the baseline?\n",
        "mae_linear_regression_with_ct = mean_absolute_error(y_test, y_pred)\n",
        "print(mae_linear_regression_with_ct)\n",
        "# This linear regression model with column transfromation returned a smaller mean absolute error regression loss than the baseline."
      ],
      "metadata": {
        "colab": {
          "base_uri": "https://localhost:8080/"
        },
        "id": "bw8tyksEPK9R",
        "outputId": "9e9273cf-63a6-42b8-f2b2-a3a824f00f7a"
      },
      "execution_count": 15,
      "outputs": [
        {
          "output_type": "stream",
          "name": "stdout",
          "text": [
            "3.385410628601037\n"
          ]
        }
      ]
    },
    {
      "cell_type": "markdown",
      "metadata": {
        "id": "d1669p0UBHrx"
      },
      "source": [
        "Random Forest Regression and Linear Regression are two commonly used regression algorithms, each with its own advantages and suitability for different scenarios. Random Forest Regression offers several advantages over Linear Regression, including:\n",
        "\n",
        "1. **Non-linearity**: Random Forest Regressor is capable of capturing non-linear relationships between features and the target variable. In contrast, Linear Regression assumes a linear relationship between the features and the target. When faced with non-linear relationships or complex feature interactions, Random Forest Regressor can provide more accurate predictions.\n",
        "\n",
        "2. **Robustness to Outliers**: Random Forest Regressor is generally more robust to outliers compared to Linear Regression. Outliers can disproportionately impact the coefficients and predictions of Linear Regression models. However, as an ensemble of decision trees, Random Forest Regressor can mitigate the effect of outliers by averaging predictions from multiple trees.\n",
        "\n",
        "3. **Feature Importance**: Random Forest Regressor provides a measure of feature importance, which helps identify the most influential features for making predictions. This information is useful for feature selection, understanding the underlying relationships in the data, and gaining insights into the problem domain. Unlike Linear Regression, which provides coefficient values indicating the direction and magnitude of relationships, Random Forest Regressor explicitly highlights feature importance.\n",
        "\n",
        "4. **Handling of Categorical Variables**: Random Forest Regressor can effectively handle categorical variables without requiring pre-processing steps like one-hot encoding. It can directly incorporate categorical variables into the model, making it more convenient when working with mixed data types. In contrast, Linear Regression often requires categorical variables to be encoded or transformed before use.\n",
        "\n",
        "5. **Handling of High-Dimensional Data**: Random Forest Regressor can handle datasets with a large number of features (high dimensionality) by automatically selecting subsets of features during the construction of individual decision trees. This reduces the risk of overfitting, which is a concern with Linear Regression when dealing with high-dimensional data.\n",
        "\n",
        "6. **Resistance to Multicollinearity**: Random Forest Regressor is less affected by multicollinearity, which occurs when predictor variables are highly correlated. In Linear Regression, highly correlated features can lead to unstable coefficient estimates, making it challenging to interpret the individual effects of each feature. Random Forest Regressor, as an ensemble approach, is less impacted by multicollinearity because each tree is built independently.\n",
        "\n",
        "Here are your tasks:\n",
        "\n",
        "  1. Build a Random Forest Regressor model using Scikit-Learn's [RandomForestRegressor](https://scikit-learn.org/stable/modules/generated/sklearn.ensemble.RandomForestRegressor.html) and train it on the train data.\n",
        "\n",
        "  2. Evaluate the performance of the model on the test data using mean absolute error as a metric. Mess around with various input parameter configurations to see how they affect the model. Can you beat the performance of the linear regression model?"
      ]
    },
    {
      "cell_type": "code",
      "execution_count": 16,
      "metadata": {
        "id": "QU4tTQKl4q_n",
        "colab": {
          "base_uri": "https://localhost:8080/",
          "height": 92
        },
        "outputId": "d2c4d4a5-6ecf-4ae5-96f3-2d7d7e868d40"
      },
      "outputs": [
        {
          "output_type": "execute_result",
          "data": {
            "text/plain": [
              "RandomForestRegressor(max_depth=3, min_samples_leaf=2, n_estimators=10,\n",
              "                      n_jobs=-2, random_state=42)"
            ],
            "text/html": [
              "<style>#sk-container-id-2 {color: black;background-color: white;}#sk-container-id-2 pre{padding: 0;}#sk-container-id-2 div.sk-toggleable {background-color: white;}#sk-container-id-2 label.sk-toggleable__label {cursor: pointer;display: block;width: 100%;margin-bottom: 0;padding: 0.3em;box-sizing: border-box;text-align: center;}#sk-container-id-2 label.sk-toggleable__label-arrow:before {content: \"▸\";float: left;margin-right: 0.25em;color: #696969;}#sk-container-id-2 label.sk-toggleable__label-arrow:hover:before {color: black;}#sk-container-id-2 div.sk-estimator:hover label.sk-toggleable__label-arrow:before {color: black;}#sk-container-id-2 div.sk-toggleable__content {max-height: 0;max-width: 0;overflow: hidden;text-align: left;background-color: #f0f8ff;}#sk-container-id-2 div.sk-toggleable__content pre {margin: 0.2em;color: black;border-radius: 0.25em;background-color: #f0f8ff;}#sk-container-id-2 input.sk-toggleable__control:checked~div.sk-toggleable__content {max-height: 200px;max-width: 100%;overflow: auto;}#sk-container-id-2 input.sk-toggleable__control:checked~label.sk-toggleable__label-arrow:before {content: \"▾\";}#sk-container-id-2 div.sk-estimator input.sk-toggleable__control:checked~label.sk-toggleable__label {background-color: #d4ebff;}#sk-container-id-2 div.sk-label input.sk-toggleable__control:checked~label.sk-toggleable__label {background-color: #d4ebff;}#sk-container-id-2 input.sk-hidden--visually {border: 0;clip: rect(1px 1px 1px 1px);clip: rect(1px, 1px, 1px, 1px);height: 1px;margin: -1px;overflow: hidden;padding: 0;position: absolute;width: 1px;}#sk-container-id-2 div.sk-estimator {font-family: monospace;background-color: #f0f8ff;border: 1px dotted black;border-radius: 0.25em;box-sizing: border-box;margin-bottom: 0.5em;}#sk-container-id-2 div.sk-estimator:hover {background-color: #d4ebff;}#sk-container-id-2 div.sk-parallel-item::after {content: \"\";width: 100%;border-bottom: 1px solid gray;flex-grow: 1;}#sk-container-id-2 div.sk-label:hover label.sk-toggleable__label {background-color: #d4ebff;}#sk-container-id-2 div.sk-serial::before {content: \"\";position: absolute;border-left: 1px solid gray;box-sizing: border-box;top: 0;bottom: 0;left: 50%;z-index: 0;}#sk-container-id-2 div.sk-serial {display: flex;flex-direction: column;align-items: center;background-color: white;padding-right: 0.2em;padding-left: 0.2em;position: relative;}#sk-container-id-2 div.sk-item {position: relative;z-index: 1;}#sk-container-id-2 div.sk-parallel {display: flex;align-items: stretch;justify-content: center;background-color: white;position: relative;}#sk-container-id-2 div.sk-item::before, #sk-container-id-2 div.sk-parallel-item::before {content: \"\";position: absolute;border-left: 1px solid gray;box-sizing: border-box;top: 0;bottom: 0;left: 50%;z-index: -1;}#sk-container-id-2 div.sk-parallel-item {display: flex;flex-direction: column;z-index: 1;position: relative;background-color: white;}#sk-container-id-2 div.sk-parallel-item:first-child::after {align-self: flex-end;width: 50%;}#sk-container-id-2 div.sk-parallel-item:last-child::after {align-self: flex-start;width: 50%;}#sk-container-id-2 div.sk-parallel-item:only-child::after {width: 0;}#sk-container-id-2 div.sk-dashed-wrapped {border: 1px dashed gray;margin: 0 0.4em 0.5em 0.4em;box-sizing: border-box;padding-bottom: 0.4em;background-color: white;}#sk-container-id-2 div.sk-label label {font-family: monospace;font-weight: bold;display: inline-block;line-height: 1.2em;}#sk-container-id-2 div.sk-label-container {text-align: center;}#sk-container-id-2 div.sk-container {/* jupyter's `normalize.less` sets `[hidden] { display: none; }` but bootstrap.min.css set `[hidden] { display: none !important; }` so we also need the `!important` here to be able to override the default hidden behavior on the sphinx rendered scikit-learn.org. See: https://github.com/scikit-learn/scikit-learn/issues/21755 */display: inline-block !important;position: relative;}#sk-container-id-2 div.sk-text-repr-fallback {display: none;}</style><div id=\"sk-container-id-2\" class=\"sk-top-container\"><div class=\"sk-text-repr-fallback\"><pre>RandomForestRegressor(max_depth=3, min_samples_leaf=2, n_estimators=10,\n",
              "                      n_jobs=-2, random_state=42)</pre><b>In a Jupyter environment, please rerun this cell to show the HTML representation or trust the notebook. <br />On GitHub, the HTML representation is unable to render, please try loading this page with nbviewer.org.</b></div><div class=\"sk-container\" hidden><div class=\"sk-item\"><div class=\"sk-estimator sk-toggleable\"><input class=\"sk-toggleable__control sk-hidden--visually\" id=\"sk-estimator-id-8\" type=\"checkbox\" checked><label for=\"sk-estimator-id-8\" class=\"sk-toggleable__label sk-toggleable__label-arrow\">RandomForestRegressor</label><div class=\"sk-toggleable__content\"><pre>RandomForestRegressor(max_depth=3, min_samples_leaf=2, n_estimators=10,\n",
              "                      n_jobs=-2, random_state=42)</pre></div></div></div></div></div>"
            ]
          },
          "metadata": {},
          "execution_count": 16
        }
      ],
      "source": [
        "# Build random forest regressor model\n",
        "# Setting the core/n_jobs, max_depth, min_samples_leaf to speed up the computation\n",
        "random_forest_regressor_model = RandomForestRegressor(n_estimators=10, random_state=42, n_jobs=-2, max_depth=3, min_samples_leaf=2)\n",
        "random_forest_regressor_model.fit(X_train, y_train)"
      ]
    },
    {
      "cell_type": "code",
      "execution_count": 17,
      "metadata": {
        "id": "P6SIX9EK5RYi",
        "colab": {
          "base_uri": "https://localhost:8080/"
        },
        "outputId": "1da1fad9-0652-4358-aefd-e9f289dc3338"
      },
      "outputs": [
        {
          "output_type": "stream",
          "name": "stdout",
          "text": [
            "3.2661741906034276\n"
          ]
        }
      ],
      "source": [
        "# Make predictions on the test data\n",
        "y_pred = random_forest_regressor_model.predict(X_test)\n",
        "mae_random_forest_regressor = mean_absolute_error(y_test, y_pred)\n",
        "print(mae_random_forest_regressor)\n",
        "# This random forest regressor model seems to have a slightly smaller mean absolute error compared to linear regression model with column transfromation."
      ]
    },
    {
      "cell_type": "markdown",
      "metadata": {
        "id": "5CuYk9WBFF2X"
      },
      "source": [
        "Hyperparameter tuning plays a critical role in machine learning model development. It involves selecting the optimal values for the hyperparameters, which are configuration settings that control the behavior of the learning algorithm. Here's why hyperparameter tuning is so important in ML:\n",
        "\n",
        "1. **Optimizing Model Performance**: The choice of hyperparameters can significantly impact the model's performance. By fine-tuning the hyperparameters, we can improve the model's accuracy, precision, recall, or other performance metrics. It helps to extract the maximum predictive power from the chosen algorithm and ensures that the model is well-suited to the specific problem at hand.\n",
        "\n",
        "2. **Avoiding Overfitting and Underfitting**: Hyperparameter tuning helps strike a balance between overfitting and underfitting.\n",
        "\n",
        "3. **Exploring Model Complexity**: Hyperparameter tuning enables us to explore the complexity of the model. For instance, in algorithms like decision trees or neural networks, we can adjust the number of layers, the number of neurons, or the maximum depth of the tree. By systematically modifying these hyperparameters, we can understand how different levels of complexity impact the model's performance and find the right balance between simplicity and complexity.\n",
        "\n",
        "Note, there are multiple approaches to hyperparemeter tuning.  \n",
        "\n",
        "While grid search is the easiest to understand and implement there are many advantages of Bayesian search over grid search for hyperparameter tuning:\n",
        "\n",
        "1. **Efficiency**: Bayesian search is generally more efficient than grid search. Grid search explores all possible combinations of hyperparameter values, which can be computationally expensive and time-consuming, especially when dealing with a large number of hyperparameters or a wide range of values. Bayesian search, on the other hand, intelligently selects the next hyperparameter configuration to evaluate based on the results of previous evaluations. It focuses on areas of the hyperparameter space that are more likely to yield better performance, reducing the number of evaluations needed.\n",
        "\n",
        "2. **Flexibility**: Bayesian search is flexible in handling continuous and discrete hyperparameters. It can handle both types of hyperparameters naturally and effectively. In contrast, grid search is more suitable for discrete hyperparameters but may struggle with continuous ones, as it requires discretization or defining a finite set of values to search over.\n",
        "\n",
        "3. **Adaptive Search**: Bayesian search adapts its search strategy based on the results of previous evaluations. It maintains a probability distribution over the hyperparameter space, updating it with each evaluation. This allows it to dynamically allocate more evaluations to promising regions and explore unexplored areas. In contrast, grid search follows a fixed and predefined search grid, regardless of the results of previous evaluations.\n",
        "\n",
        "4. **Better Convergence**: Bayesian search has the potential to converge to the optimal hyperparameter configuration more quickly.\n",
        "\n",
        "Here are your tasks:\n",
        "\n",
        "  1. Perform a grid-search on a Random Forest Regressor model. Only search the space for the parameters 'n_estimators', 'max_depth', and 'min_samples_split'. Note, this can take some time to run. Make sure you set reasonable boundaries for the search space. Use Scikit-Learn's [GridSearchCV](https://scikit-learn.org/stable/modules/generated/sklearn.model_selection.GridSearchCV.html) method.\n",
        "\n",
        "  2. After you've identified the best parameters, train a random forest regression model using these parameters on the full training data.\n",
        "\n",
        "  3. Evaluate the model from the previous step using the test data. How does your model perform?"
      ]
    },
    {
      "cell_type": "code",
      "source": [
        "# Define the hyperparameters to tune.\n",
        "param_grid = {'n_estimators':[10, 50], 'max_depth':[5, 10], 'min_samples_split':[2, 5]}"
      ],
      "metadata": {
        "id": "HlmZeNDOa1zs"
      },
      "execution_count": 18,
      "outputs": []
    },
    {
      "cell_type": "code",
      "source": [
        "# To speed up the computation time for grid search, I am going to only use 1% of the entire dataset by randomly choosing the 10% of data.\n",
        "\n",
        "# Before dropping some rows\n",
        "print(df.shape)\n",
        "\n",
        "# Randomly choosing 1% of the data\n",
        "sample_df = df.sample(frac=0.01)\n",
        "# After dropping some rows\n",
        "print(sample_df.shape)\n",
        "print(sample_df.head())\n",
        "\n",
        "# label sample_target\n",
        "sample_target = sample_df[target_variable]\n",
        "print(sample_target)\n",
        "\n",
        "# label sample_features\n",
        "sample_features = sample_df[feature_cols]\n",
        "print(sample_features)\n",
        "\n",
        "# Splitting the sample data into training and test sets\n",
        "X_train, X_test, y_train, y_test = train_test_split(sample_features, sample_target, test_size=0.2, random_state=42)"
      ],
      "metadata": {
        "colab": {
          "base_uri": "https://localhost:8080/"
        },
        "id": "KONQgHBwj2dI",
        "outputId": "2433e89a-f503-470e-df09-d9a0b7f3ef35"
      },
      "execution_count": 19,
      "outputs": [
        {
          "output_type": "stream",
          "name": "stdout",
          "text": [
            "(2392428, 20)\n",
            "(23924, 20)\n",
            "         VendorID tpep_pickup_datetime tpep_dropoff_datetime  passenger_count  \\\n",
            "478029          2  2022-01-07 22:29:24   2022-01-07 22:47:14              1.0   \n",
            "1954538         1  2022-01-26 11:11:43   2022-01-26 11:21:39              2.0   \n",
            "2228014         2  2022-01-29 16:52:48   2022-01-29 16:59:24              1.0   \n",
            "1113581         2  2022-01-15 23:52:24   2022-01-16 00:10:06              2.0   \n",
            "2301776         2  2022-01-30 20:20:32   2022-01-30 20:28:08              1.0   \n",
            "\n",
            "         trip_distance  RatecodeID store_and_fwd_flag  PULocationID  \\\n",
            "478029            3.50         1.0                  N           234   \n",
            "1954538           1.30         1.0                  N            74   \n",
            "2228014           1.72         1.0                  N           236   \n",
            "1113581           5.23         1.0                  N           249   \n",
            "2301776           1.60         1.0                  N           236   \n",
            "\n",
            "         DOLocationID  payment_type  fare_amount  extra  mta_tax  tip_amount  \\\n",
            "478029            142             1         15.5    0.5      0.5        3.00   \n",
            "1954538           263             2          8.5    2.5      0.5        0.00   \n",
            "2228014            74             1          7.0    0.0      0.5        2.06   \n",
            "1113581            24             1         17.0    0.5      0.5        4.16   \n",
            "2301776           239             1          7.5    0.5      0.5        2.00   \n",
            "\n",
            "         tolls_amount  improvement_surcharge  total_amount  \\\n",
            "478029            0.0                    0.3         22.30   \n",
            "1954538           0.0                    0.3         11.80   \n",
            "2228014           0.0                    0.3         12.36   \n",
            "1113581           0.0                    0.3         24.96   \n",
            "2301776           0.0                    0.3         13.30   \n",
            "\n",
            "         congestion_surcharge  airport_fee  trip_duration  \n",
            "478029                    2.5          0.0      17.833333  \n",
            "1954538                   2.5          0.0       9.933333  \n",
            "2228014                   2.5          0.0       6.600000  \n",
            "1113581                   2.5          0.0      17.700000  \n",
            "2301776                   2.5          0.0       7.600000  \n",
            "478029     22.30\n",
            "1954538    11.80\n",
            "2228014    12.36\n",
            "1113581    24.96\n",
            "2301776    13.30\n",
            "           ...  \n",
            "1373587    13.30\n",
            "184664     18.55\n",
            "1564950    12.35\n",
            "958559     14.76\n",
            "754907     17.02\n",
            "Name: total_amount, Length: 23924, dtype: float64\n",
            "         VendorID  trip_distance  payment_type  PULocationID  DOLocationID  \\\n",
            "478029          2           3.50             1           234           142   \n",
            "1954538         1           1.30             2            74           263   \n",
            "2228014         2           1.72             1           236            74   \n",
            "1113581         2           5.23             1           249            24   \n",
            "2301776         2           1.60             1           236           239   \n",
            "...           ...            ...           ...           ...           ...   \n",
            "1373587         2           1.64             2            43           151   \n",
            "184664          1           2.30             1           230           137   \n",
            "1564950         1           1.10             1           158           246   \n",
            "958559          2           1.54             1           100           107   \n",
            "754907          2           2.11             1           140           142   \n",
            "\n",
            "         trip_duration  \n",
            "478029       17.833333  \n",
            "1954538       9.933333  \n",
            "2228014       6.600000  \n",
            "1113581      17.700000  \n",
            "2301776       7.600000  \n",
            "...                ...  \n",
            "1373587      12.700000  \n",
            "184664       12.833333  \n",
            "1564950       6.200000  \n",
            "958559       11.583333  \n",
            "754907       13.450000  \n",
            "\n",
            "[23924 rows x 6 columns]\n"
          ]
        }
      ]
    },
    {
      "cell_type": "code",
      "execution_count": 20,
      "metadata": {
        "colab": {
          "base_uri": "https://localhost:8080/",
          "height": 118
        },
        "id": "NWaMWOH6Kdho",
        "outputId": "591c8225-e6eb-4a10-d991-7fae35bdf4a1"
      },
      "outputs": [
        {
          "output_type": "execute_result",
          "data": {
            "text/plain": [
              "GridSearchCV(cv=2,\n",
              "             estimator=RandomForestRegressor(max_depth=3, min_samples_leaf=2,\n",
              "                                             n_estimators=10, n_jobs=-2,\n",
              "                                             random_state=42),\n",
              "             param_grid={'max_depth': [5, 10], 'min_samples_split': [2, 5],\n",
              "                         'n_estimators': [10, 50]},\n",
              "             return_train_score=True)"
            ],
            "text/html": [
              "<style>#sk-container-id-3 {color: black;background-color: white;}#sk-container-id-3 pre{padding: 0;}#sk-container-id-3 div.sk-toggleable {background-color: white;}#sk-container-id-3 label.sk-toggleable__label {cursor: pointer;display: block;width: 100%;margin-bottom: 0;padding: 0.3em;box-sizing: border-box;text-align: center;}#sk-container-id-3 label.sk-toggleable__label-arrow:before {content: \"▸\";float: left;margin-right: 0.25em;color: #696969;}#sk-container-id-3 label.sk-toggleable__label-arrow:hover:before {color: black;}#sk-container-id-3 div.sk-estimator:hover label.sk-toggleable__label-arrow:before {color: black;}#sk-container-id-3 div.sk-toggleable__content {max-height: 0;max-width: 0;overflow: hidden;text-align: left;background-color: #f0f8ff;}#sk-container-id-3 div.sk-toggleable__content pre {margin: 0.2em;color: black;border-radius: 0.25em;background-color: #f0f8ff;}#sk-container-id-3 input.sk-toggleable__control:checked~div.sk-toggleable__content {max-height: 200px;max-width: 100%;overflow: auto;}#sk-container-id-3 input.sk-toggleable__control:checked~label.sk-toggleable__label-arrow:before {content: \"▾\";}#sk-container-id-3 div.sk-estimator input.sk-toggleable__control:checked~label.sk-toggleable__label {background-color: #d4ebff;}#sk-container-id-3 div.sk-label input.sk-toggleable__control:checked~label.sk-toggleable__label {background-color: #d4ebff;}#sk-container-id-3 input.sk-hidden--visually {border: 0;clip: rect(1px 1px 1px 1px);clip: rect(1px, 1px, 1px, 1px);height: 1px;margin: -1px;overflow: hidden;padding: 0;position: absolute;width: 1px;}#sk-container-id-3 div.sk-estimator {font-family: monospace;background-color: #f0f8ff;border: 1px dotted black;border-radius: 0.25em;box-sizing: border-box;margin-bottom: 0.5em;}#sk-container-id-3 div.sk-estimator:hover {background-color: #d4ebff;}#sk-container-id-3 div.sk-parallel-item::after {content: \"\";width: 100%;border-bottom: 1px solid gray;flex-grow: 1;}#sk-container-id-3 div.sk-label:hover label.sk-toggleable__label {background-color: #d4ebff;}#sk-container-id-3 div.sk-serial::before {content: \"\";position: absolute;border-left: 1px solid gray;box-sizing: border-box;top: 0;bottom: 0;left: 50%;z-index: 0;}#sk-container-id-3 div.sk-serial {display: flex;flex-direction: column;align-items: center;background-color: white;padding-right: 0.2em;padding-left: 0.2em;position: relative;}#sk-container-id-3 div.sk-item {position: relative;z-index: 1;}#sk-container-id-3 div.sk-parallel {display: flex;align-items: stretch;justify-content: center;background-color: white;position: relative;}#sk-container-id-3 div.sk-item::before, #sk-container-id-3 div.sk-parallel-item::before {content: \"\";position: absolute;border-left: 1px solid gray;box-sizing: border-box;top: 0;bottom: 0;left: 50%;z-index: -1;}#sk-container-id-3 div.sk-parallel-item {display: flex;flex-direction: column;z-index: 1;position: relative;background-color: white;}#sk-container-id-3 div.sk-parallel-item:first-child::after {align-self: flex-end;width: 50%;}#sk-container-id-3 div.sk-parallel-item:last-child::after {align-self: flex-start;width: 50%;}#sk-container-id-3 div.sk-parallel-item:only-child::after {width: 0;}#sk-container-id-3 div.sk-dashed-wrapped {border: 1px dashed gray;margin: 0 0.4em 0.5em 0.4em;box-sizing: border-box;padding-bottom: 0.4em;background-color: white;}#sk-container-id-3 div.sk-label label {font-family: monospace;font-weight: bold;display: inline-block;line-height: 1.2em;}#sk-container-id-3 div.sk-label-container {text-align: center;}#sk-container-id-3 div.sk-container {/* jupyter's `normalize.less` sets `[hidden] { display: none; }` but bootstrap.min.css set `[hidden] { display: none !important; }` so we also need the `!important` here to be able to override the default hidden behavior on the sphinx rendered scikit-learn.org. See: https://github.com/scikit-learn/scikit-learn/issues/21755 */display: inline-block !important;position: relative;}#sk-container-id-3 div.sk-text-repr-fallback {display: none;}</style><div id=\"sk-container-id-3\" class=\"sk-top-container\"><div class=\"sk-text-repr-fallback\"><pre>GridSearchCV(cv=2,\n",
              "             estimator=RandomForestRegressor(max_depth=3, min_samples_leaf=2,\n",
              "                                             n_estimators=10, n_jobs=-2,\n",
              "                                             random_state=42),\n",
              "             param_grid={&#x27;max_depth&#x27;: [5, 10], &#x27;min_samples_split&#x27;: [2, 5],\n",
              "                         &#x27;n_estimators&#x27;: [10, 50]},\n",
              "             return_train_score=True)</pre><b>In a Jupyter environment, please rerun this cell to show the HTML representation or trust the notebook. <br />On GitHub, the HTML representation is unable to render, please try loading this page with nbviewer.org.</b></div><div class=\"sk-container\" hidden><div class=\"sk-item sk-dashed-wrapped\"><div class=\"sk-label-container\"><div class=\"sk-label sk-toggleable\"><input class=\"sk-toggleable__control sk-hidden--visually\" id=\"sk-estimator-id-9\" type=\"checkbox\" ><label for=\"sk-estimator-id-9\" class=\"sk-toggleable__label sk-toggleable__label-arrow\">GridSearchCV</label><div class=\"sk-toggleable__content\"><pre>GridSearchCV(cv=2,\n",
              "             estimator=RandomForestRegressor(max_depth=3, min_samples_leaf=2,\n",
              "                                             n_estimators=10, n_jobs=-2,\n",
              "                                             random_state=42),\n",
              "             param_grid={&#x27;max_depth&#x27;: [5, 10], &#x27;min_samples_split&#x27;: [2, 5],\n",
              "                         &#x27;n_estimators&#x27;: [10, 50]},\n",
              "             return_train_score=True)</pre></div></div></div><div class=\"sk-parallel\"><div class=\"sk-parallel-item\"><div class=\"sk-item\"><div class=\"sk-label-container\"><div class=\"sk-label sk-toggleable\"><input class=\"sk-toggleable__control sk-hidden--visually\" id=\"sk-estimator-id-10\" type=\"checkbox\" ><label for=\"sk-estimator-id-10\" class=\"sk-toggleable__label sk-toggleable__label-arrow\">estimator: RandomForestRegressor</label><div class=\"sk-toggleable__content\"><pre>RandomForestRegressor(max_depth=3, min_samples_leaf=2, n_estimators=10,\n",
              "                      n_jobs=-2, random_state=42)</pre></div></div></div><div class=\"sk-serial\"><div class=\"sk-item\"><div class=\"sk-estimator sk-toggleable\"><input class=\"sk-toggleable__control sk-hidden--visually\" id=\"sk-estimator-id-11\" type=\"checkbox\" ><label for=\"sk-estimator-id-11\" class=\"sk-toggleable__label sk-toggleable__label-arrow\">RandomForestRegressor</label><div class=\"sk-toggleable__content\"><pre>RandomForestRegressor(max_depth=3, min_samples_leaf=2, n_estimators=10,\n",
              "                      n_jobs=-2, random_state=42)</pre></div></div></div></div></div></div></div></div></div></div>"
            ]
          },
          "metadata": {},
          "execution_count": 20
        }
      ],
      "source": [
        "# Perform grid search to find the best hyperparameters. This could take a while.\n",
        "grid_search = GridSearchCV(estimator=random_forest_regressor_model, param_grid=param_grid, cv=2, refit=True, return_train_score=True)\n",
        "grid_search.fit(X_train, y_train)"
      ]
    },
    {
      "cell_type": "code",
      "source": [
        "# Get the best model and its parameters.\n",
        "print(grid_search.best_estimator_)\n",
        "print(grid_search.best_params_)"
      ],
      "metadata": {
        "id": "_JO-wsm7a58f",
        "colab": {
          "base_uri": "https://localhost:8080/"
        },
        "outputId": "28943317-a8a4-478f-ab9a-9ea3d6e7f31e"
      },
      "execution_count": 21,
      "outputs": [
        {
          "output_type": "stream",
          "name": "stdout",
          "text": [
            "RandomForestRegressor(max_depth=10, min_samples_leaf=2, min_samples_split=5,\n",
            "                      n_estimators=50, n_jobs=-2, random_state=42)\n",
            "{'max_depth': 10, 'min_samples_split': 5, 'n_estimators': 50}\n"
          ]
        }
      ]
    },
    {
      "cell_type": "code",
      "execution_count": 22,
      "metadata": {
        "colab": {
          "base_uri": "https://localhost:8080/",
          "height": 92
        },
        "id": "W7ier_bt23RS",
        "outputId": "4f6d15d1-1efa-438e-fb85-6092a6202399"
      },
      "outputs": [
        {
          "output_type": "execute_result",
          "data": {
            "text/plain": [
              "RandomForestRegressor(max_depth=10, min_samples_leaf=2, min_samples_split=5,\n",
              "                      n_estimators=50, n_jobs=-2, random_state=42)"
            ],
            "text/html": [
              "<style>#sk-container-id-4 {color: black;background-color: white;}#sk-container-id-4 pre{padding: 0;}#sk-container-id-4 div.sk-toggleable {background-color: white;}#sk-container-id-4 label.sk-toggleable__label {cursor: pointer;display: block;width: 100%;margin-bottom: 0;padding: 0.3em;box-sizing: border-box;text-align: center;}#sk-container-id-4 label.sk-toggleable__label-arrow:before {content: \"▸\";float: left;margin-right: 0.25em;color: #696969;}#sk-container-id-4 label.sk-toggleable__label-arrow:hover:before {color: black;}#sk-container-id-4 div.sk-estimator:hover label.sk-toggleable__label-arrow:before {color: black;}#sk-container-id-4 div.sk-toggleable__content {max-height: 0;max-width: 0;overflow: hidden;text-align: left;background-color: #f0f8ff;}#sk-container-id-4 div.sk-toggleable__content pre {margin: 0.2em;color: black;border-radius: 0.25em;background-color: #f0f8ff;}#sk-container-id-4 input.sk-toggleable__control:checked~div.sk-toggleable__content {max-height: 200px;max-width: 100%;overflow: auto;}#sk-container-id-4 input.sk-toggleable__control:checked~label.sk-toggleable__label-arrow:before {content: \"▾\";}#sk-container-id-4 div.sk-estimator input.sk-toggleable__control:checked~label.sk-toggleable__label {background-color: #d4ebff;}#sk-container-id-4 div.sk-label input.sk-toggleable__control:checked~label.sk-toggleable__label {background-color: #d4ebff;}#sk-container-id-4 input.sk-hidden--visually {border: 0;clip: rect(1px 1px 1px 1px);clip: rect(1px, 1px, 1px, 1px);height: 1px;margin: -1px;overflow: hidden;padding: 0;position: absolute;width: 1px;}#sk-container-id-4 div.sk-estimator {font-family: monospace;background-color: #f0f8ff;border: 1px dotted black;border-radius: 0.25em;box-sizing: border-box;margin-bottom: 0.5em;}#sk-container-id-4 div.sk-estimator:hover {background-color: #d4ebff;}#sk-container-id-4 div.sk-parallel-item::after {content: \"\";width: 100%;border-bottom: 1px solid gray;flex-grow: 1;}#sk-container-id-4 div.sk-label:hover label.sk-toggleable__label {background-color: #d4ebff;}#sk-container-id-4 div.sk-serial::before {content: \"\";position: absolute;border-left: 1px solid gray;box-sizing: border-box;top: 0;bottom: 0;left: 50%;z-index: 0;}#sk-container-id-4 div.sk-serial {display: flex;flex-direction: column;align-items: center;background-color: white;padding-right: 0.2em;padding-left: 0.2em;position: relative;}#sk-container-id-4 div.sk-item {position: relative;z-index: 1;}#sk-container-id-4 div.sk-parallel {display: flex;align-items: stretch;justify-content: center;background-color: white;position: relative;}#sk-container-id-4 div.sk-item::before, #sk-container-id-4 div.sk-parallel-item::before {content: \"\";position: absolute;border-left: 1px solid gray;box-sizing: border-box;top: 0;bottom: 0;left: 50%;z-index: -1;}#sk-container-id-4 div.sk-parallel-item {display: flex;flex-direction: column;z-index: 1;position: relative;background-color: white;}#sk-container-id-4 div.sk-parallel-item:first-child::after {align-self: flex-end;width: 50%;}#sk-container-id-4 div.sk-parallel-item:last-child::after {align-self: flex-start;width: 50%;}#sk-container-id-4 div.sk-parallel-item:only-child::after {width: 0;}#sk-container-id-4 div.sk-dashed-wrapped {border: 1px dashed gray;margin: 0 0.4em 0.5em 0.4em;box-sizing: border-box;padding-bottom: 0.4em;background-color: white;}#sk-container-id-4 div.sk-label label {font-family: monospace;font-weight: bold;display: inline-block;line-height: 1.2em;}#sk-container-id-4 div.sk-label-container {text-align: center;}#sk-container-id-4 div.sk-container {/* jupyter's `normalize.less` sets `[hidden] { display: none; }` but bootstrap.min.css set `[hidden] { display: none !important; }` so we also need the `!important` here to be able to override the default hidden behavior on the sphinx rendered scikit-learn.org. See: https://github.com/scikit-learn/scikit-learn/issues/21755 */display: inline-block !important;position: relative;}#sk-container-id-4 div.sk-text-repr-fallback {display: none;}</style><div id=\"sk-container-id-4\" class=\"sk-top-container\"><div class=\"sk-text-repr-fallback\"><pre>RandomForestRegressor(max_depth=10, min_samples_leaf=2, min_samples_split=5,\n",
              "                      n_estimators=50, n_jobs=-2, random_state=42)</pre><b>In a Jupyter environment, please rerun this cell to show the HTML representation or trust the notebook. <br />On GitHub, the HTML representation is unable to render, please try loading this page with nbviewer.org.</b></div><div class=\"sk-container\" hidden><div class=\"sk-item\"><div class=\"sk-estimator sk-toggleable\"><input class=\"sk-toggleable__control sk-hidden--visually\" id=\"sk-estimator-id-12\" type=\"checkbox\" checked><label for=\"sk-estimator-id-12\" class=\"sk-toggleable__label sk-toggleable__label-arrow\">RandomForestRegressor</label><div class=\"sk-toggleable__content\"><pre>RandomForestRegressor(max_depth=10, min_samples_leaf=2, min_samples_split=5,\n",
              "                      n_estimators=50, n_jobs=-2, random_state=42)</pre></div></div></div></div></div>"
            ]
          },
          "metadata": {},
          "execution_count": 22
        }
      ],
      "source": [
        "# Fit the best classifier on the training data.\n",
        "best_classifier = grid_search.best_estimator_\n",
        "best_classifier.fit(X_train, y_train)"
      ]
    },
    {
      "cell_type": "code",
      "execution_count": 23,
      "metadata": {
        "colab": {
          "base_uri": "https://localhost:8080/"
        },
        "id": "ZHPrwD41tq13",
        "outputId": "6527c4d6-4a56-4674-bd85-a8dfbff9243e"
      },
      "outputs": [
        {
          "output_type": "stream",
          "name": "stdout",
          "text": [
            "1.6304018094798696\n"
          ]
        }
      ],
      "source": [
        "# Make predictions on the test data\n",
        "y_pred = best_classifier.predict(X_test)\n",
        "\n",
        "mae_grid_search = mean_absolute_error(y_test, y_pred)\n",
        "print(mae_grid_search)\n",
        "\n",
        "# Please note that for this grid search, I was unable to utilize the whole data set due to the latency and expensiveness.\n",
        "# That being said, the mean absolue error of grid search was much smaller than any other models above."
      ]
    }
  ],
  "metadata": {
    "colab": {
      "provenance": [],
      "include_colab_link": true
    },
    "kernelspec": {
      "display_name": "Python 3",
      "name": "python3"
    },
    "language_info": {
      "name": "python"
    }
  },
  "nbformat": 4,
  "nbformat_minor": 0
}