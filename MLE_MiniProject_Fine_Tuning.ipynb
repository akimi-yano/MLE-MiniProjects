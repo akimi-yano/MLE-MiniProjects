{
  "nbformat": 4,
  "nbformat_minor": 0,
  "metadata": {
    "colab": {
      "provenance": [],
      "gpuType": "T4",
      "include_colab_link": true
    },
    "kernelspec": {
      "name": "python3",
      "display_name": "Python 3"
    },
    "language_info": {
      "name": "python"
    },
    "accelerator": "GPU"
  },
  "cells": [
    {
      "cell_type": "markdown",
      "metadata": {
        "id": "view-in-github",
        "colab_type": "text"
      },
      "source": [
        "<a href=\"https://colab.research.google.com/github/akimi-yano/MLE-MiniProjects/blob/main/MLE_MiniProject_Fine_Tuning.ipynb\" target=\"_parent\"><img src=\"https://colab.research.google.com/assets/colab-badge.svg\" alt=\"Open In Colab\"/></a>"
      ]
    },
    {
      "cell_type": "markdown",
      "source": [
        "# Mini Project: Transfer Learning with Keras\n",
        "\n",
        "Transfer learning is a machine learning technique where a model trained on one task is used as a starting point to solve a different but related task. Instead of training a model from scratch, transfer learning leverages the knowledge learned from the source task and applies it to the target task. This approach is especially useful when the target task has limited data or computational resources.\n",
        "\n",
        "In transfer learning, the pre-trained model, also known as the \"base model\" or \"source model,\" is typically trained on a large dataset and a more general problem (e.g., image classification on ImageNet, a vast dataset with millions of labeled images). The knowledge learned by the base model in the form of feature representations and weights captures common patterns and features in the data.\n",
        "\n",
        "To perform transfer learning, the following steps are commonly followed:\n",
        "\n",
        "1. Pre-training: The base model is trained on a source task using a large dataset, which can take a considerable amount of time and computational resources.\n",
        "\n",
        "2. Feature Extraction: After pre-training, the base model is used as a feature extractor. The last few layers (classifier layers) of the model are discarded, and the remaining layers (feature extraction layers) are retained. These layers serve as feature extractors, producing meaningful representations of the data.\n",
        "\n",
        "3. Fine-tuning: The feature extraction layers and sometimes some of the earlier layers are connected to a new set of layers, often called the \"classifier layers\" or \"task-specific layers.\" These layers are randomly initialized, and the model is trained on the target task with a smaller dataset. The weights of the base model can be frozen during fine-tuning, or they can be allowed to be updated with a lower learning rate to fine-tune the model for the target task.\n",
        "\n",
        "Transfer learning has several benefits:\n",
        "\n",
        "1. Reduced training time and resource requirements: Since the base model has already learned generic features, transfer learning can save time and resources compared to training a model from scratch.\n",
        "\n",
        "2. Improved generalization: Transfer learning helps the model generalize better to the target task, especially when the target dataset is small and dissimilar from the source dataset.\n",
        "\n",
        "3. Better performance: By starting from a model that is already trained on a large dataset, transfer learning can lead to better performance on the target task, especially in scenarios with limited data.\n",
        "\n",
        "4. Effective feature extraction: The feature extraction layers of the pre-trained model can serve as powerful feature extractors for different tasks, even when the task domains differ.\n",
        "\n",
        "Transfer learning is commonly used in various domains, including computer vision, natural language processing (NLP), and speech recognition, where pre-trained models are fine-tuned for specific applications like object detection, sentiment analysis, or speech-to-text.\n",
        "\n",
        "In this mini-project you will perform fine-tuning using Keras with a pre-trained VGG16 model on the CIFAR-10 dataset."
      ],
      "metadata": {
        "id": "fyXucUekO19i"
      }
    },
    {
      "cell_type": "markdown",
      "source": [
        "First, import all the libraries you'll need."
      ],
      "metadata": {
        "id": "TYuE9O6I2uRY"
      }
    },
    {
      "cell_type": "code",
      "execution_count": 1,
      "metadata": {
        "id": "kLWR1DfQPakn"
      },
      "outputs": [],
      "source": [
        "import numpy as np\n",
        "import tensorflow as tf\n",
        "from tensorflow.keras.datasets import cifar10\n",
        "from tensorflow.keras.applications import VGG16\n",
        "from tensorflow.keras.models import Model\n",
        "from tensorflow.keras.layers import Dense, GlobalAveragePooling2D\n",
        "from tensorflow.keras.optimizers import Adam\n",
        "from tensorflow.keras.utils import to_categorical\n",
        "from sklearn.model_selection import train_test_split"
      ]
    },
    {
      "cell_type": "markdown",
      "source": [
        "The CIFAR-10 dataset is a widely used benchmark dataset in the field of computer vision and machine learning. It stands for the \"Canadian Institute for Advanced Research 10\" dataset. CIFAR-10 was created by researchers at the CIFAR institute and was originally introduced as part of the Neural Information Processing Systems (NIPS) 2009 competition.\n",
        "\n",
        "The dataset consists of 60,000 color images, each of size 32x32 pixels, belonging to ten different classes. Each class contains 6,000 images. The ten classes in CIFAR-10 are:\n",
        "\n",
        "1. Airplane\n",
        "2. Automobile\n",
        "3. Bird\n",
        "4. Cat\n",
        "5. Deer\n",
        "6. Dog\n",
        "7. Frog\n",
        "8. Horse\n",
        "9. Ship\n",
        "10. Truck\n",
        "\n",
        "The images are evenly distributed across the classes, making CIFAR-10 a balanced dataset. The dataset is divided into two sets: a training set and a test set. The training set contains 50,000 images, while the test set contains the remaining 10,000 images.\n",
        "\n",
        "CIFAR-10 is often used for tasks such as image classification, object recognition, and transfer learning experiments. The relatively small size of the images and the variety of classes make it a challenging dataset for training machine learning models, especially deep neural networks. It also serves as a good dataset for teaching and learning purposes due to its manageable size and straightforward class labels."
      ],
      "metadata": {
        "id": "TEB60YsX2yUf"
      }
    },
    {
      "cell_type": "markdown",
      "source": [
        "Here are your tasks:\n",
        "\n",
        "1. Load the CIFAR-10 dataset after referencing the documentation [here](https://keras.io/api/datasets/cifar10/).\n",
        "2. Normalize the pixel values so they're all in the range [0, 1].\n",
        "3. Apply One Hot Encoding to the train and test labels using the [to_categorical](https://www.tensorflow.org/api_docs/python/tf/keras/utils/to_categorical) function.\n",
        "4. Further split the the training data into training and validation sets using [train_test_split](https://scikit-learn.org/stable/modules/generated/sklearn.model_selection.train_test_split.html). Use only 10% of the data for validation.  "
      ],
      "metadata": {
        "id": "Gp0MVIbiFonL"
      }
    },
    {
      "cell_type": "code",
      "source": [
        "# Load the CIFAR-10 dataset\n",
        "(X_train, y_train), (X_test, y_test) = cifar10.load_data()"
      ],
      "metadata": {
        "id": "ndNbwjaaSvs-",
        "colab": {
          "base_uri": "https://localhost:8080/"
        },
        "outputId": "495d028d-a3ce-4e50-b42d-b38864df9caa"
      },
      "execution_count": 2,
      "outputs": [
        {
          "output_type": "stream",
          "name": "stdout",
          "text": [
            "Downloading data from https://www.cs.toronto.edu/~kriz/cifar-10-python.tar.gz\n",
            "170498071/170498071 [==============================] - 19s 0us/step\n"
          ]
        }
      ]
    },
    {
      "cell_type": "code",
      "source": [
        "# Normalize the pixel values to [0, 1]\n",
        "X_train = X_train / 255.0\n",
        "X_test = X_test / 255.0"
      ],
      "metadata": {
        "id": "8H6KUgh2SxxR"
      },
      "execution_count": 3,
      "outputs": []
    },
    {
      "cell_type": "code",
      "source": [
        "# One-hot encode the labels\n",
        "y_train = to_categorical(y_train)\n",
        "y_test = to_categorical(y_test)"
      ],
      "metadata": {
        "id": "mWDW1ZLySz7K"
      },
      "execution_count": 4,
      "outputs": []
    },
    {
      "cell_type": "code",
      "source": [
        "# Split the data into training and validation sets\n",
        "X_train, X_validation, y_train, y_validation = train_test_split(X_train, y_train, test_size=0.1, random_state=42)"
      ],
      "metadata": {
        "id": "4y3zao91ndZB"
      },
      "execution_count": 5,
      "outputs": []
    },
    {
      "cell_type": "markdown",
      "source": [
        "VGG16 (Visual Geometry Group 16) is a deep convolutional neural network architecture that was developed by the Visual Geometry Group at the University of Oxford. It was proposed by researchers Karen Simonyan and Andrew Zisserman in their paper titled \"Very Deep Convolutional Networks for Large-Scale Image Recognition,\" which was presented at the International Conference on Learning Representations (ICLR) in 2015.\n",
        "\n",
        "The VGG16 architecture gained significant popularity for its simplicity and effectiveness in image classification tasks. It was one of the pioneering models that demonstrated the power of deeper neural networks for visual recognition tasks.\n",
        "\n",
        "Key characteristics of the VGG16 architecture:\n",
        "\n",
        "1. Architecture: VGG16 consists of a total of 16 layers, hence the name \"16.\" These layers are stacked one after another, forming a deep neural network.\n",
        "\n",
        "2. Convolutional Layers: The main building blocks of VGG16 are the convolutional layers. It primarily uses 3x3 convolutional filters throughout the network, which allows it to capture local features effectively.\n",
        "\n",
        "3. Max Pooling: After each set of convolutional layers, VGG16 applies max-pooling layers with 2x2 filters and stride 2, which halves the spatial dimensions (width and height) of the feature maps and reduces the number of parameters.\n",
        "\n",
        "4. Fully Connected Layers: Towards the end of the network, VGG16 has fully connected layers that act as a classifier to make predictions based on the learned features.\n",
        "\n",
        "5. Activation Function: The network uses the Rectified Linear Unit (ReLU) activation function for all hidden layers, which helps with faster convergence during training.\n",
        "\n",
        "6. Number of Filters: The number of filters in each convolutional layer is relatively small compared to more recent architectures like ResNet or InceptionNet. However, stacking multiple layers allows VGG16 to learn complex hierarchical features.\n",
        "\n",
        "7. Output Layer: The output layer consists of 1000 units, corresponding to 1000 ImageNet classes. VGG16 was originally trained on the large-scale ImageNet dataset, which contains millions of images from 1000 different classes.\n",
        "\n",
        "VGG16 was instrumental in showing that increasing the depth of a neural network can significantly improve its performance on image recognition tasks. However, the main drawback of VGG16 is its high number of parameters, making it computationally expensive and memory-intensive to train. Despite this limitation, VGG16 remains an essential benchmark architecture and has paved the way for even deeper and more efficient models in the field of computer vision, such as ResNet, DenseNet, and EfficientNet."
      ],
      "metadata": {
        "id": "aiFJsxS5HPHW"
      }
    },
    {
      "cell_type": "markdown",
      "source": [
        "Here are your tasks:\n",
        "\n",
        "1. Load [VGG16](https://keras.io/api/applications/vgg/#vgg16-function) as a base model. Make sure to exclude the top layer.\n",
        "2. Freeze all the layers in the base model. We'll be using these weights as a feature extraction layer to forward to layers that are trainable."
      ],
      "metadata": {
        "id": "XJw9E1D9Q3tQ"
      }
    },
    {
      "cell_type": "code",
      "source": [
        "# Load the pre-trained VGG16 model (excluding the top classifier)\n",
        "base_model = VGG16(weights='imagenet', include_top=False)"
      ],
      "metadata": {
        "id": "bncm8oTonijm",
        "colab": {
          "base_uri": "https://localhost:8080/"
        },
        "outputId": "886f71f0-abb6-4e82-a6d8-7f755dabf08d"
      },
      "execution_count": 6,
      "outputs": [
        {
          "output_type": "stream",
          "name": "stdout",
          "text": [
            "Downloading data from https://storage.googleapis.com/tensorflow/keras-applications/vgg16/vgg16_weights_tf_dim_ordering_tf_kernels_notop.h5\n",
            "58889256/58889256 [==============================] - 4s 0us/step\n"
          ]
        }
      ]
    },
    {
      "cell_type": "code",
      "source": [
        "# Freeze the layers in the base model\n",
        "for layer in base_model.layers:\n",
        "  layer.trainable = False"
      ],
      "metadata": {
        "id": "pCQXH4bwS6h5"
      },
      "execution_count": 7,
      "outputs": []
    },
    {
      "cell_type": "markdown",
      "source": [
        "Now, we'll add some trainable layers to the base model.\n",
        "\n",
        "1. Using the base model, add a [GlobalAveragePooling2D](https://keras.io/api/layers/pooling_layers/global_average_pooling2d/) layer, followed by a [Dense](https://keras.io/api/layers/core_layers/dense/) layer of length 256 with ReLU activation. Finally, add a classification layer with 10 units, corresponding to the 10 CIFAR-10 classes, with softmax activation.\n",
        "2. Create a Keras [Model](https://keras.io/api/models/model/) that takes in approproate inputs and outputs."
      ],
      "metadata": {
        "id": "MAnyLR6btWqd"
      }
    },
    {
      "cell_type": "code",
      "source": [
        "# Add a global average pooling layer\n",
        "x = base_model.output\n",
        "x = GlobalAveragePooling2D()(x)"
      ],
      "metadata": {
        "id": "GiD0CiSvTCRG"
      },
      "execution_count": 8,
      "outputs": []
    },
    {
      "cell_type": "code",
      "source": [
        "# Add a fully connected layer with 256 units and ReLU activation\n",
        "x = Dense(256, activation='relu')(x)"
      ],
      "metadata": {
        "id": "fKbX1RK4TCB9"
      },
      "execution_count": 9,
      "outputs": []
    },
    {
      "cell_type": "code",
      "source": [
        "# Add the final classification layer with 10 units (for CIFAR-10 classes) and softmax activation\n",
        "predictions = Dense(10, activation='softmax')(x)"
      ],
      "metadata": {
        "id": "yEYDagVQTB33"
      },
      "execution_count": 10,
      "outputs": []
    },
    {
      "cell_type": "code",
      "source": [
        "# Create the fine-tuned model\n",
        "model = Model(inputs=base_model.input, outputs=predictions)"
      ],
      "metadata": {
        "id": "A-op7iObo8io"
      },
      "execution_count": 11,
      "outputs": []
    },
    {
      "cell_type": "markdown",
      "source": [
        "With your model complete it's time to train it and assess its performance.\n",
        "\n",
        "1. Compile your model using an appropriate loss function. Feel free to play around with the optimizer, but a good starting optimizer might be Adam with a learning rate of 0.001.\n",
        "2. Fit your model on the training data. Use the validation data to print the accuracy for each epoch. Try training for 10 epochs. Note, training can take a few hours so go ahead and grab a cup of coffee.\n",
        "\n",
        "**Optional**: See if you can implement an [Early Stopping](https://keras.io/api/callbacks/early_stopping/) criteria as a callback function."
      ],
      "metadata": {
        "id": "jjgG_9IMwuLS"
      }
    },
    {
      "cell_type": "code",
      "source": [
        "# Compile the model\n",
        "model.compile(optimizer=Adam(learning_rate=0.001), loss='categorical_crossentropy', metrics=['accuracy'])"
      ],
      "metadata": {
        "id": "xTFBXCe6TG5m"
      },
      "execution_count": 12,
      "outputs": []
    },
    {
      "cell_type": "code",
      "source": [
        "# Train the model\n",
        "history = model.fit(X_train, y_train, validation_data=(X_validation, y_validation), epochs=10)"
      ],
      "metadata": {
        "id": "M5JnXlGPpkDg",
        "colab": {
          "base_uri": "https://localhost:8080/"
        },
        "outputId": "5dc2f30c-8bb5-41b2-b483-ab8b77c8a55d"
      },
      "execution_count": 13,
      "outputs": [
        {
          "output_type": "stream",
          "name": "stdout",
          "text": [
            "Epoch 1/10\n",
            "1407/1407 [==============================] - 19s 11ms/step - loss: 1.3542 - accuracy: 0.5288 - val_loss: 1.2136 - val_accuracy: 0.5714\n",
            "Epoch 2/10\n",
            "1407/1407 [==============================] - 13s 9ms/step - loss: 1.1774 - accuracy: 0.5862 - val_loss: 1.1658 - val_accuracy: 0.5888\n",
            "Epoch 3/10\n",
            "1407/1407 [==============================] - 14s 10ms/step - loss: 1.1093 - accuracy: 0.6120 - val_loss: 1.1358 - val_accuracy: 0.6016\n",
            "Epoch 4/10\n",
            "1407/1407 [==============================] - 14s 10ms/step - loss: 1.0625 - accuracy: 0.6270 - val_loss: 1.1227 - val_accuracy: 0.6086\n",
            "Epoch 5/10\n",
            "1407/1407 [==============================] - 14s 10ms/step - loss: 1.0196 - accuracy: 0.6428 - val_loss: 1.0930 - val_accuracy: 0.6188\n",
            "Epoch 6/10\n",
            "1407/1407 [==============================] - 14s 10ms/step - loss: 0.9803 - accuracy: 0.6582 - val_loss: 1.0975 - val_accuracy: 0.6232\n",
            "Epoch 7/10\n",
            "1407/1407 [==============================] - 14s 10ms/step - loss: 0.9452 - accuracy: 0.6706 - val_loss: 1.0983 - val_accuracy: 0.6222\n",
            "Epoch 8/10\n",
            "1407/1407 [==============================] - 14s 10ms/step - loss: 0.9125 - accuracy: 0.6802 - val_loss: 1.1020 - val_accuracy: 0.6168\n",
            "Epoch 9/10\n",
            "1407/1407 [==============================] - 14s 10ms/step - loss: 0.8780 - accuracy: 0.6909 - val_loss: 1.0956 - val_accuracy: 0.6210\n",
            "Epoch 10/10\n",
            "1407/1407 [==============================] - 14s 10ms/step - loss: 0.8484 - accuracy: 0.7030 - val_loss: 1.1300 - val_accuracy: 0.6200\n"
          ]
        }
      ]
    },
    {
      "cell_type": "markdown",
      "source": [
        "With your model trained, it's time to assess how well it performs on the test data.\n",
        "\n",
        "1. Use your trained model to calculate the accuracy on the test set. Is the model performance better than random?\n",
        "2. Experiment! See if you can tweak your model to improve performance.  "
      ],
      "metadata": {
        "id": "N8-T6EnmypvW"
      }
    },
    {
      "cell_type": "code",
      "source": [
        "# Evaluate the model on the test set\n",
        "test_loss, test_accuracy = model.evaluate(X_test, y_test)\n",
        "print(\"Test Loss:\", test_loss)\n",
        "print(\"Test Accuracy:\", test_accuracy)\n",
        "\n",
        "# There are 10 classes in the CIFAR-10 dataset, so if the test_accuracy is larger than\n",
        "# 0.1 or 10%, then the model's performance is better than random."
      ],
      "metadata": {
        "id": "auYNYD0JpnaX",
        "colab": {
          "base_uri": "https://localhost:8080/"
        },
        "outputId": "c2fd07f8-57e2-49f2-83c4-50a20d42af82"
      },
      "execution_count": 22,
      "outputs": [
        {
          "output_type": "stream",
          "name": "stdout",
          "text": [
            "313/313 [==============================] - 3s 9ms/step - loss: 1.1209 - accuracy: 0.6052\n",
            "Test Loss: 1.1209427118301392\n",
            "Test Accuracy: 0.6051999926567078\n"
          ]
        }
      ]
    },
    {
      "cell_type": "code",
      "source": [
        "# Defining the early stopping callback to pass it in as EarlyStopping callback criteria.\n",
        "from tensorflow.keras.callbacks import EarlyStopping\n",
        "early_stopping = EarlyStopping(\n",
        "    monitor='val_loss',  # Metric to monitor\n",
        "    patience=3,          # Number of epochs with no improvement after which training will be stopped\n",
        "    restore_best_weights=True  # Restore model weights from the epoch with the best value of the monitored quantity\n",
        ")"
      ],
      "metadata": {
        "id": "LwCOOafznYhk"
      },
      "execution_count": 15,
      "outputs": []
    },
    {
      "cell_type": "code",
      "source": [
        "# Tweaking/ adjusting the model to improve performance (1) - Increase Epochs\n",
        "\n",
        "# Update to increase epochs to 100\n",
        "model.fit(X_train, y_train, validation_data=(X_validation, y_validation), epochs=100, callbacks=[early_stopping])\n",
        "test_loss, test_accuracy = model.evaluate(X_test, y_test)\n",
        "print(\"Test Loss:\", test_loss)\n",
        "print(\"Test Accuracy:\", test_accuracy)"
      ],
      "metadata": {
        "colab": {
          "base_uri": "https://localhost:8080/"
        },
        "id": "2Zz1CyJfS7jJ",
        "outputId": "046f0024-d70b-4b68-820a-5b3a738f3593"
      },
      "execution_count": 16,
      "outputs": [
        {
          "output_type": "stream",
          "name": "stdout",
          "text": [
            "Epoch 1/100\n",
            "1407/1407 [==============================] - 14s 10ms/step - loss: 0.8199 - accuracy: 0.7130 - val_loss: 1.1167 - val_accuracy: 0.6174\n",
            "Epoch 2/100\n",
            "1407/1407 [==============================] - 14s 10ms/step - loss: 0.7934 - accuracy: 0.7234 - val_loss: 1.1497 - val_accuracy: 0.6174\n",
            "Epoch 3/100\n",
            "1407/1407 [==============================] - 14s 10ms/step - loss: 0.7671 - accuracy: 0.7322 - val_loss: 1.1475 - val_accuracy: 0.6180\n",
            "Epoch 4/100\n",
            "1407/1407 [==============================] - 14s 10ms/step - loss: 0.7408 - accuracy: 0.7371 - val_loss: 1.1744 - val_accuracy: 0.6120\n",
            "313/313 [==============================] - 3s 8ms/step - loss: 1.1297 - accuracy: 0.6199\n",
            "Test Loss: 1.129650592803955\n",
            "Test Accuracy: 0.6198999881744385\n"
          ]
        }
      ]
    },
    {
      "cell_type": "code",
      "source": [
        "# Tweaking/ adjusting the model to improve performance (2) - Increase Learning Rate\n",
        "\n",
        "# Updating the learning rate from 0.001 to 0.0005\n",
        "model.compile(optimizer=Adam(learning_rate=0.0005), loss='categorical_crossentropy', metrics=['accuracy'])\n",
        "model.fit(X_train, y_train, validation_data=(X_validation, y_validation), epochs=10, callbacks=[early_stopping])\n",
        "test_loss, test_accuracy = model.evaluate(X_test, y_test)\n",
        "print(\"Test Loss:\", test_loss)\n",
        "print(\"Test Accuracy:\", test_accuracy)"
      ],
      "metadata": {
        "colab": {
          "base_uri": "https://localhost:8080/"
        },
        "id": "w0OzE9fxgmjC",
        "outputId": "dfe39e9a-9140-48fb-a875-680be2a81f5c"
      },
      "execution_count": 17,
      "outputs": [
        {
          "output_type": "stream",
          "name": "stdout",
          "text": [
            "Epoch 1/10\n",
            "1407/1407 [==============================] - 16s 11ms/step - loss: 0.7434 - accuracy: 0.7428 - val_loss: 1.0947 - val_accuracy: 0.6356\n",
            "Epoch 2/10\n",
            "1407/1407 [==============================] - 14s 10ms/step - loss: 0.7207 - accuracy: 0.7520 - val_loss: 1.0927 - val_accuracy: 0.6296\n",
            "Epoch 3/10\n",
            "1407/1407 [==============================] - 14s 10ms/step - loss: 0.7014 - accuracy: 0.7568 - val_loss: 1.1199 - val_accuracy: 0.6292\n",
            "Epoch 4/10\n",
            "1407/1407 [==============================] - 14s 10ms/step - loss: 0.6842 - accuracy: 0.7653 - val_loss: 1.1469 - val_accuracy: 0.6248\n",
            "Epoch 5/10\n",
            "1407/1407 [==============================] - 14s 10ms/step - loss: 0.6671 - accuracy: 0.7710 - val_loss: 1.1176 - val_accuracy: 0.6344\n",
            "313/313 [==============================] - 3s 8ms/step - loss: 1.1165 - accuracy: 0.6272\n",
            "Test Loss: 1.1165484189987183\n",
            "Test Accuracy: 0.6272000074386597\n"
          ]
        }
      ]
    },
    {
      "cell_type": "code",
      "source": [
        "# Tweaking/ adjusting the model to improve performance (3) - Use L2 Regularization\n",
        "\n",
        "base_model = VGG16(weights='imagenet', include_top=False)\n",
        "for layer in base_model.layers:\n",
        "  layer.trainable = False\n",
        "x = base_model.output\n",
        "x = GlobalAveragePooling2D()(x)\n",
        "\n",
        "# Updating to add L2 regularization to the Dense layer\n",
        "x = Dense(256, activation='relu', kernel_regularizer=tf.keras.regularizers.l2(0.01))(x)\n",
        "\n",
        "predictions = Dense(10, activation='softmax')(x)\n",
        "model = Model(inputs=base_model.input, outputs=predictions)\n",
        "model.compile(optimizer=Adam(learning_rate=0.001), loss='categorical_crossentropy', metrics=['accuracy'])\n",
        "model.fit(X_train, y_train, validation_data=(X_validation, y_validation), epochs=10, callbacks=[early_stopping])\n",
        "test_loss, test_accuracy = model.evaluate(X_test, y_test)\n",
        "print(\"Test Loss:\", test_loss)\n",
        "print(\"Test Accuracy:\", test_accuracy)"
      ],
      "metadata": {
        "colab": {
          "base_uri": "https://localhost:8080/"
        },
        "id": "1I4y515fpbEu",
        "outputId": "1c31a420-ecc5-43ab-be46-493514d7dbcc"
      },
      "execution_count": 18,
      "outputs": [
        {
          "output_type": "stream",
          "name": "stdout",
          "text": [
            "Epoch 1/10\n",
            "1407/1407 [==============================] - 16s 10ms/step - loss: 1.7860 - accuracy: 0.4872 - val_loss: 1.5785 - val_accuracy: 0.4962\n",
            "Epoch 2/10\n",
            "1407/1407 [==============================] - 14s 10ms/step - loss: 1.5396 - accuracy: 0.5147 - val_loss: 1.4919 - val_accuracy: 0.5284\n",
            "Epoch 3/10\n",
            "1407/1407 [==============================] - 14s 10ms/step - loss: 1.5165 - accuracy: 0.5200 - val_loss: 1.4852 - val_accuracy: 0.5232\n",
            "Epoch 4/10\n",
            "1407/1407 [==============================] - 15s 10ms/step - loss: 1.4951 - accuracy: 0.5240 - val_loss: 1.4842 - val_accuracy: 0.5204\n",
            "Epoch 5/10\n",
            "1407/1407 [==============================] - 14s 10ms/step - loss: 1.4800 - accuracy: 0.5298 - val_loss: 1.5250 - val_accuracy: 0.5050\n",
            "Epoch 6/10\n",
            "1407/1407 [==============================] - 14s 10ms/step - loss: 1.4672 - accuracy: 0.5355 - val_loss: 1.4534 - val_accuracy: 0.5390\n",
            "Epoch 7/10\n",
            "1407/1407 [==============================] - 14s 10ms/step - loss: 1.4492 - accuracy: 0.5397 - val_loss: 1.4419 - val_accuracy: 0.5434\n",
            "Epoch 8/10\n",
            "1407/1407 [==============================] - 15s 11ms/step - loss: 1.4487 - accuracy: 0.5378 - val_loss: 1.4102 - val_accuracy: 0.5526\n",
            "Epoch 9/10\n",
            "1407/1407 [==============================] - 14s 10ms/step - loss: 1.4326 - accuracy: 0.5440 - val_loss: 1.4233 - val_accuracy: 0.5366\n",
            "Epoch 10/10\n",
            "1407/1407 [==============================] - 14s 10ms/step - loss: 1.4220 - accuracy: 0.5458 - val_loss: 1.4263 - val_accuracy: 0.5374\n",
            "313/313 [==============================] - 3s 9ms/step - loss: 1.4541 - accuracy: 0.5329\n",
            "Test Loss: 1.4541200399398804\n",
            "Test Accuracy: 0.5328999757766724\n"
          ]
        }
      ]
    },
    {
      "cell_type": "code",
      "source": [
        "# Tweaking/ adjusting the model to improve performance (4) - Unfreeze More Layers\n",
        "\n",
        "# Updating to unfreeze more layers\n",
        "for layer in base_model.layers[-5:]:  # Adjust the number of layers to unfreeze\n",
        "    layer.trainable = True\n",
        "\n",
        "x = base_model.output\n",
        "x = GlobalAveragePooling2D()(x)\n",
        "x = Dense(256, activation='relu')(x)\n",
        "predictions = Dense(10, activation='softmax')(x)\n",
        "model = Model(inputs=base_model.input, outputs=predictions)\n",
        "model.compile(optimizer=Adam(learning_rate=0.001), loss='categorical_crossentropy', metrics=['accuracy'])\n",
        "model.fit(X_train, y_train, validation_data=(X_validation, y_validation), epochs=10, callbacks=[early_stopping])\n",
        "test_loss, test_accuracy = model.evaluate(X_test, y_test)\n",
        "print(\"Test Loss:\", test_loss)\n",
        "print(\"Test Accuracy:\", test_accuracy)"
      ],
      "metadata": {
        "colab": {
          "base_uri": "https://localhost:8080/"
        },
        "id": "Ygyd2HNooOcU",
        "outputId": "3e572400-4110-4c33-f468-f7adc8e8fc5a"
      },
      "execution_count": 19,
      "outputs": [
        {
          "output_type": "stream",
          "name": "stdout",
          "text": [
            "Epoch 1/10\n",
            "1407/1407 [==============================] - 27s 17ms/step - loss: 2.3043 - accuracy: 0.0972 - val_loss: 2.3029 - val_accuracy: 0.1006\n",
            "Epoch 2/10\n",
            "1407/1407 [==============================] - 24s 17ms/step - loss: 2.3028 - accuracy: 0.0975 - val_loss: 2.3026 - val_accuracy: 0.1006\n",
            "Epoch 3/10\n",
            "1407/1407 [==============================] - 24s 17ms/step - loss: 2.3028 - accuracy: 0.0971 - val_loss: 2.3027 - val_accuracy: 0.1008\n",
            "Epoch 4/10\n",
            "1407/1407 [==============================] - 24s 17ms/step - loss: 2.3028 - accuracy: 0.0986 - val_loss: 2.3027 - val_accuracy: 0.1046\n",
            "Epoch 5/10\n",
            "1407/1407 [==============================] - 24s 17ms/step - loss: 2.3028 - accuracy: 0.0971 - val_loss: 2.3026 - val_accuracy: 0.1008\n",
            "313/313 [==============================] - 3s 9ms/step - loss: 2.3026 - accuracy: 0.1000\n",
            "Test Loss: 2.30261492729187\n",
            "Test Accuracy: 0.10000000149011612\n"
          ]
        }
      ]
    },
    {
      "cell_type": "code",
      "source": [
        "# Tweaking/ adjusting the model to improve performance (5) - Increase Data Sets\n",
        "\n",
        "# Updating to do data augumentation to increase the size of my training data set\n",
        "# by applying random transformations to the images.\n",
        "from tensorflow.keras.preprocessing.image import ImageDataGenerator\n",
        "datagen = ImageDataGenerator(\n",
        "    rotation_range=15,\n",
        "    width_shift_range=0.1,\n",
        "    height_shift_range=0.1,\n",
        "    horizontal_flip=True\n",
        ")\n",
        "datagen.fit(X_train)\n",
        "\n",
        "base_model = VGG16(weights='imagenet', include_top=False)\n",
        "for layer in base_model.layers:\n",
        "  layer.trainable = False\n",
        "x = base_model.output\n",
        "x = GlobalAveragePooling2D()(x)\n",
        "x = Dense(256, activation='relu')(x)\n",
        "predictions = Dense(10, activation='softmax')(x)\n",
        "model = Model(inputs=base_model.input, outputs=predictions)\n",
        "model.compile(optimizer=Adam(learning_rate=0.001), loss='categorical_crossentropy', metrics=['accuracy'])\n",
        "model.fit(X_train, y_train, validation_data=(X_validation, y_validation), epochs=10, callbacks=[early_stopping])\n",
        "test_loss, test_accuracy = model.evaluate(X_test, y_test)\n",
        "print(\"Test Loss:\", test_loss)\n",
        "print(\"Test Accuracy:\", test_accuracy)"
      ],
      "metadata": {
        "colab": {
          "base_uri": "https://localhost:8080/"
        },
        "id": "-DUOF-NqqVcI",
        "outputId": "b01ef191-44ee-4fb7-c0e8-9a8405dfdfc3"
      },
      "execution_count": 20,
      "outputs": [
        {
          "output_type": "stream",
          "name": "stdout",
          "text": [
            "Epoch 1/10\n",
            "1407/1407 [==============================] - 16s 10ms/step - loss: 1.3523 - accuracy: 0.5278 - val_loss: 1.2093 - val_accuracy: 0.5708\n",
            "Epoch 2/10\n",
            "1407/1407 [==============================] - 14s 10ms/step - loss: 1.1761 - accuracy: 0.5891 - val_loss: 1.1516 - val_accuracy: 0.5882\n",
            "Epoch 3/10\n",
            "1407/1407 [==============================] - 14s 10ms/step - loss: 1.1057 - accuracy: 0.6136 - val_loss: 1.1435 - val_accuracy: 0.6016\n",
            "Epoch 4/10\n",
            "1407/1407 [==============================] - 14s 10ms/step - loss: 1.0581 - accuracy: 0.6303 - val_loss: 1.0957 - val_accuracy: 0.6176\n",
            "Epoch 5/10\n",
            "1407/1407 [==============================] - 15s 11ms/step - loss: 1.0142 - accuracy: 0.6447 - val_loss: 1.1140 - val_accuracy: 0.6106\n",
            "Epoch 6/10\n",
            "1407/1407 [==============================] - 14s 10ms/step - loss: 0.9763 - accuracy: 0.6577 - val_loss: 1.0865 - val_accuracy: 0.6234\n",
            "Epoch 7/10\n",
            "1407/1407 [==============================] - 14s 10ms/step - loss: 0.9402 - accuracy: 0.6717 - val_loss: 1.0827 - val_accuracy: 0.6282\n",
            "Epoch 8/10\n",
            "1407/1407 [==============================] - 15s 10ms/step - loss: 0.9081 - accuracy: 0.6809 - val_loss: 1.0906 - val_accuracy: 0.6234\n",
            "Epoch 9/10\n",
            "1407/1407 [==============================] - 14s 10ms/step - loss: 0.8763 - accuracy: 0.6923 - val_loss: 1.0896 - val_accuracy: 0.6318\n",
            "Epoch 10/10\n",
            "1407/1407 [==============================] - 14s 10ms/step - loss: 0.8465 - accuracy: 0.7041 - val_loss: 1.0959 - val_accuracy: 0.6240\n",
            "313/313 [==============================] - 3s 9ms/step - loss: 1.1209 - accuracy: 0.6052\n",
            "Test Loss: 1.1209427118301392\n",
            "Test Accuracy: 0.6051999926567078\n"
          ]
        }
      ]
    }
  ]
}